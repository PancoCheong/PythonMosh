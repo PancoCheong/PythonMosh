{
 "cells": [
  {
   "cell_type": "code",
   "execution_count": 1,
   "metadata": {
    "collapsed": false
   },
   "outputs": [
   ],
   "source": [
    "import pandas as pd\n",
    "import numpy as np\n",
    "import matplotlib.pyplot as plt\n",
    "import seaborn as sns\n",
    "plt.rcParams['font.sans-serif'] = ['SimHei']  # 用来正常显示中文标签\n",
    "plt.rcParams['axes.unicode_minus'] = False  # 用来正常显示负号\n",
    "import warnings\n",
    "warnings.filterwarnings('ignore')\n",
    "\n",
    "from scipy import stats\n",
    "from sklearn.preprocessing import StandardScaler\n",
    "from imblearn.over_sampling import SMOTE \n",
    "from sklearn.model_selection import train_test_split, cross_val_score, GridSearchCV, KFold\n",
    "from sklearn.feature_selection import RFE \n",
    "from sklearn.linear_model import LogisticRegression\n",
    "from sklearn.svm import SVC\n",
    "from sklearn.ensemble import RandomForestClassifier, VotingClassifier, ExtraTreesClassifier\n",
    "import xgboost as xgb\n",
    "from sklearn import metrics\n",
    "import prettytable"
   ]
  },
  {
   "cell_type": "code",
   "execution_count": 2,
   "metadata": {
    "collapsed": false
   },
   "outputs": [
    {
     "data": {
      "text/html": [
       "<div>\n",
       "<style scoped>\n",
       "    .dataframe tbody tr th:only-of-type {\n",
       "        vertical-align: middle;\n",
       "    }\n",
       "\n",
       "    .dataframe tbody tr th {\n",
       "        vertical-align: top;\n",
       "    }\n",
       "\n",
       "    .dataframe thead th {\n",
       "        text-align: right;\n",
       "    }\n",
       "</style>\n",
       "<table border=\"1\" class=\"dataframe\">\n",
       "  <thead>\n",
       "    <tr style=\"text-align: right;\">\n",
       "      <th></th>\n",
       "      <th>0</th>\n",
       "      <th>1</th>\n",
       "      <th>2</th>\n",
       "      <th>3</th>\n",
       "      <th>4</th>\n",
       "    </tr>\n",
       "  </thead>\n",
       "  <tbody>\n",
       "    <tr>\n",
       "      <th>customerID</th>\n",
       "      <td>7590-VHVEG</td>\n",
       "      <td>5575-GNVDE</td>\n",
       "      <td>3668-QPYBK</td>\n",
       "      <td>7795-CFOCW</td>\n",
       "      <td>9237-HQITU</td>\n",
       "    </tr>\n",
       "    <tr>\n",
       "      <th>gender</th>\n",
       "      <td>Female</td>\n",
       "      <td>Male</td>\n",
       "      <td>Male</td>\n",
       "      <td>Male</td>\n",
       "      <td>Female</td>\n",
       "    </tr>\n",
       "    <tr>\n",
       "      <th>SeniorCitizen</th>\n",
       "      <td>0</td>\n",
       "      <td>0</td>\n",
       "      <td>0</td>\n",
       "      <td>0</td>\n",
       "      <td>0</td>\n",
       "    </tr>\n",
       "    <tr>\n",
       "      <th>Partner</th>\n",
       "      <td>Yes</td>\n",
       "      <td>No</td>\n",
       "      <td>No</td>\n",
       "      <td>No</td>\n",
       "      <td>No</td>\n",
       "    </tr>\n",
       "    <tr>\n",
       "      <th>Dependents</th>\n",
       "      <td>No</td>\n",
       "      <td>No</td>\n",
       "      <td>No</td>\n",
       "      <td>No</td>\n",
       "      <td>No</td>\n",
       "    </tr>\n",
       "    <tr>\n",
       "      <th>tenure</th>\n",
       "      <td>1</td>\n",
       "      <td>34</td>\n",
       "      <td>2</td>\n",
       "      <td>45</td>\n",
       "      <td>2</td>\n",
       "    </tr>\n",
       "    <tr>\n",
       "      <th>PhoneService</th>\n",
       "      <td>No</td>\n",
       "      <td>Yes</td>\n",
       "      <td>Yes</td>\n",
       "      <td>No</td>\n",
       "      <td>Yes</td>\n",
       "    </tr>\n",
       "    <tr>\n",
       "      <th>MultipleLines</th>\n",
       "      <td>No phone service</td>\n",
       "      <td>No</td>\n",
       "      <td>No</td>\n",
       "      <td>No phone service</td>\n",
       "      <td>No</td>\n",
       "    </tr>\n",
       "    <tr>\n",
       "      <th>InternetService</th>\n",
       "      <td>DSL</td>\n",
       "      <td>DSL</td>\n",
       "      <td>DSL</td>\n",
       "      <td>DSL</td>\n",
       "      <td>Fiber optic</td>\n",
       "    </tr>\n",
       "    <tr>\n",
       "      <th>OnlineSecurity</th>\n",
       "      <td>No</td>\n",
       "      <td>Yes</td>\n",
       "      <td>Yes</td>\n",
       "      <td>Yes</td>\n",
       "      <td>No</td>\n",
       "    </tr>\n",
       "    <tr>\n",
       "      <th>OnlineBackup</th>\n",
       "      <td>Yes</td>\n",
       "      <td>No</td>\n",
       "      <td>Yes</td>\n",
       "      <td>No</td>\n",
       "      <td>No</td>\n",
       "    </tr>\n",
       "    <tr>\n",
       "      <th>DeviceProtection</th>\n",
       "      <td>No</td>\n",
       "      <td>Yes</td>\n",
       "      <td>No</td>\n",
       "      <td>Yes</td>\n",
       "      <td>No</td>\n",
       "    </tr>\n",
       "    <tr>\n",
       "      <th>TechSupport</th>\n",
       "      <td>No</td>\n",
       "      <td>No</td>\n",
       "      <td>No</td>\n",
       "      <td>Yes</td>\n",
       "      <td>No</td>\n",
       "    </tr>\n",
       "    <tr>\n",
       "      <th>StreamingTV</th>\n",
       "      <td>No</td>\n",
       "      <td>No</td>\n",
       "      <td>No</td>\n",
       "      <td>No</td>\n",
       "      <td>No</td>\n",
       "    </tr>\n",
       "    <tr>\n",
       "      <th>StreamingMovies</th>\n",
       "      <td>No</td>\n",
       "      <td>No</td>\n",
       "      <td>No</td>\n",
       "      <td>No</td>\n",
       "      <td>No</td>\n",
       "    </tr>\n",
       "    <tr>\n",
       "      <th>Contract</th>\n",
       "      <td>Month-to-month</td>\n",
       "      <td>One year</td>\n",
       "      <td>Month-to-month</td>\n",
       "      <td>One year</td>\n",
       "      <td>Month-to-month</td>\n",
       "    </tr>\n",
       "    <tr>\n",
       "      <th>PaperlessBilling</th>\n",
       "      <td>Yes</td>\n",
       "      <td>No</td>\n",
       "      <td>Yes</td>\n",
       "      <td>No</td>\n",
       "      <td>Yes</td>\n",
       "    </tr>\n",
       "    <tr>\n",
       "      <th>PaymentMethod</th>\n",
       "      <td>Electronic check</td>\n",
       "      <td>Mailed check</td>\n",
       "      <td>Mailed check</td>\n",
       "      <td>Bank transfer (automatic)</td>\n",
       "      <td>Electronic check</td>\n",
       "    </tr>\n",
       "    <tr>\n",
       "      <th>MonthlyCharges</th>\n",
       "      <td>29.85</td>\n",
       "      <td>56.95</td>\n",
       "      <td>53.85</td>\n",
       "      <td>42.3</td>\n",
       "      <td>70.7</td>\n",
       "    </tr>\n",
       "    <tr>\n",
       "      <th>TotalCharges</th>\n",
       "      <td>29.85</td>\n",
       "      <td>1889.5</td>\n",
       "      <td>108.15</td>\n",
       "      <td>1840.75</td>\n",
       "      <td>151.65</td>\n",
       "    </tr>\n",
       "    <tr>\n",
       "      <th>Churn</th>\n",
       "      <td>No</td>\n",
       "      <td>No</td>\n",
       "      <td>Yes</td>\n",
       "      <td>No</td>\n",
       "      <td>Yes</td>\n",
       "    </tr>\n",
       "  </tbody>\n",
       "</table>\n",
       "</div>"
      ],
      "text/plain": [
       "                                 0             1               2  \\\n",
       "customerID              7590-VHVEG    5575-GNVDE      3668-QPYBK   \n",
       "gender                      Female          Male            Male   \n",
       "SeniorCitizen                    0             0               0   \n",
       "Partner                        Yes            No              No   \n",
       "Dependents                      No            No              No   \n",
       "tenure                           1            34               2   \n",
       "PhoneService                    No           Yes             Yes   \n",
       "MultipleLines     No phone service            No              No   \n",
       "InternetService                DSL           DSL             DSL   \n",
       "OnlineSecurity                  No           Yes             Yes   \n",
       "OnlineBackup                   Yes            No             Yes   \n",
       "DeviceProtection                No           Yes              No   \n",
       "TechSupport                     No            No              No   \n",
       "StreamingTV                     No            No              No   \n",
       "StreamingMovies                 No            No              No   \n",
       "Contract            Month-to-month      One year  Month-to-month   \n",
       "PaperlessBilling               Yes            No             Yes   \n",
       "PaymentMethod     Electronic check  Mailed check    Mailed check   \n",
       "MonthlyCharges               29.85         56.95           53.85   \n",
       "TotalCharges                 29.85        1889.5          108.15   \n",
       "Churn                           No            No             Yes   \n",
       "\n",
       "                                          3                 4  \n",
       "customerID                       7795-CFOCW        9237-HQITU  \n",
       "gender                                 Male            Female  \n",
       "SeniorCitizen                             0                 0  \n",
       "Partner                                  No                No  \n",
       "Dependents                               No                No  \n",
       "tenure                                   45                 2  \n",
       "PhoneService                             No               Yes  \n",
       "MultipleLines              No phone service                No  \n",
       "InternetService                         DSL       Fiber optic  \n",
       "OnlineSecurity                          Yes                No  \n",
       "OnlineBackup                             No                No  \n",
       "DeviceProtection                        Yes                No  \n",
       "TechSupport                             Yes                No  \n",
       "StreamingTV                              No                No  \n",
       "StreamingMovies                          No                No  \n",
       "Contract                           One year    Month-to-month  \n",
       "PaperlessBilling                         No               Yes  \n",
       "PaymentMethod     Bank transfer (automatic)  Electronic check  \n",
       "MonthlyCharges                         42.3              70.7  \n",
       "TotalCharges                        1840.75            151.65  \n",
       "Churn                                    No               Yes  "
      ]
     },
     "execution_count": 2,
     "metadata": {
     },
     "output_type": "execute_result"
    }
   ],
   "source": [
    "data = pd.read_csv('WA_Fn-UseC_-Telco-Customer-Churn.csv')\n",
    "data.head().T"
   ]
  },
  {
   "cell_type": "code",
   "execution_count": 6,
   "metadata": {
    "collapsed": false
   },
   "outputs": [
    {
     "name": "stdout",
     "output_type": "stream",
     "text": [
      "<class 'pandas.core.frame.DataFrame'>\n",
      "RangeIndex: 7043 entries, 0 to 7042\n",
      "Data columns (total 21 columns):\n",
      " #   Column            Non-Null Count  Dtype  \n",
      "---  ------            --------------  -----  \n",
      " 0   customerID        7043 non-null   object \n",
      " 1   gender            7043 non-null   object \n",
      " 2   SeniorCitizen     7043 non-null   int64  \n",
      " 3   Partner           7043 non-null   object \n",
      " 4   Dependents        7043 non-null   object \n",
      " 5   tenure            7043 non-null   int64  \n",
      " 6   PhoneService      7043 non-null   object \n",
      " 7   MultipleLines     7043 non-null   object \n",
      " 8   InternetService   7043 non-null   object \n",
      " 9   OnlineSecurity    7043 non-null   object \n",
      " 10  OnlineBackup      7043 non-null   object \n",
      " 11  DeviceProtection  7043 non-null   object \n",
      " 12  TechSupport       7043 non-null   object \n",
      " 13  StreamingTV       7043 non-null   object \n",
      " 14  StreamingMovies   7043 non-null   object \n",
      " 15  Contract          7043 non-null   object \n",
      " 16  PaperlessBilling  7043 non-null   object \n",
      " 17  PaymentMethod     7043 non-null   object \n",
      " 18  MonthlyCharges    7043 non-null   float64\n",
      " 19  TotalCharges      7043 non-null   object \n",
      " 20  Churn             7043 non-null   object \n",
      "dtypes: float64(1), int64(2), object(18)\n",
      "memory usage: 1.1+ MB\n"
     ]
    }
   ],
   "source": [
    "data.info()"
   ]
  },
  {
   "cell_type": "code",
   "execution_count": 7,
   "metadata": {
    "collapsed": false
   },
   "outputs": [
   ],
   "source": [
    "data.drop(\"customerID\", axis=1, inplace=True)\n",
    "\n"
   ]
  },
  {
   "cell_type": "code",
   "execution_count": 8,
   "metadata": {
    "collapsed": false
   },
   "outputs": [
    {
     "data": {
      "text/plain": [
       "11"
      ]
     },
     "execution_count": 8,
     "metadata": {
     },
     "output_type": "execute_result"
    }
   ],
   "source": [
    "# 转换成连续型变量\n",
    "data['TotalCharges'] = pd.to_numeric(data.TotalCharges, errors='coerce')\n",
    "# 查看是否存在缺失值\n",
    "data['TotalCharges'].isnull().sum()"
   ]
  },
  {
   "cell_type": "code",
   "execution_count": 9,
   "metadata": {
    "collapsed": false
   },
   "outputs": [
    {
     "data": {
      "text/html": [
       "<div>\n",
       "<style scoped>\n",
       "    .dataframe tbody tr th:only-of-type {\n",
       "        vertical-align: middle;\n",
       "    }\n",
       "\n",
       "    .dataframe tbody tr th {\n",
       "        vertical-align: top;\n",
       "    }\n",
       "\n",
       "    .dataframe thead th {\n",
       "        text-align: right;\n",
       "    }\n",
       "</style>\n",
       "<table border=\"1\" class=\"dataframe\">\n",
       "  <thead>\n",
       "    <tr style=\"text-align: right;\">\n",
       "      <th></th>\n",
       "      <th>488</th>\n",
       "      <th>753</th>\n",
       "      <th>936</th>\n",
       "      <th>1082</th>\n",
       "      <th>1340</th>\n",
       "      <th>3331</th>\n",
       "      <th>3826</th>\n",
       "      <th>4380</th>\n",
       "      <th>5218</th>\n",
       "      <th>6670</th>\n",
       "      <th>6754</th>\n",
       "    </tr>\n",
       "  </thead>\n",
       "  <tbody>\n",
       "    <tr>\n",
       "      <th>gender</th>\n",
       "      <td>Female</td>\n",
       "      <td>Male</td>\n",
       "      <td>Female</td>\n",
       "      <td>Male</td>\n",
       "      <td>Female</td>\n",
       "      <td>Male</td>\n",
       "      <td>Male</td>\n",
       "      <td>Female</td>\n",
       "      <td>Male</td>\n",
       "      <td>Female</td>\n",
       "      <td>Male</td>\n",
       "    </tr>\n",
       "    <tr>\n",
       "      <th>SeniorCitizen</th>\n",
       "      <td>0</td>\n",
       "      <td>0</td>\n",
       "      <td>0</td>\n",
       "      <td>0</td>\n",
       "      <td>0</td>\n",
       "      <td>0</td>\n",
       "      <td>0</td>\n",
       "      <td>0</td>\n",
       "      <td>0</td>\n",
       "      <td>0</td>\n",
       "      <td>0</td>\n",
       "    </tr>\n",
       "    <tr>\n",
       "      <th>Partner</th>\n",
       "      <td>Yes</td>\n",
       "      <td>No</td>\n",
       "      <td>Yes</td>\n",
       "      <td>Yes</td>\n",
       "      <td>Yes</td>\n",
       "      <td>Yes</td>\n",
       "      <td>Yes</td>\n",
       "      <td>Yes</td>\n",
       "      <td>Yes</td>\n",
       "      <td>Yes</td>\n",
       "      <td>No</td>\n",
       "    </tr>\n",
       "    <tr>\n",
       "      <th>Dependents</th>\n",
       "      <td>Yes</td>\n",
       "      <td>Yes</td>\n",
       "      <td>Yes</td>\n",
       "      <td>Yes</td>\n",
       "      <td>Yes</td>\n",
       "      <td>Yes</td>\n",
       "      <td>Yes</td>\n",
       "      <td>Yes</td>\n",
       "      <td>Yes</td>\n",
       "      <td>Yes</td>\n",
       "      <td>Yes</td>\n",
       "    </tr>\n",
       "    <tr>\n",
       "      <th>tenure</th>\n",
       "      <td>0</td>\n",
       "      <td>0</td>\n",
       "      <td>0</td>\n",
       "      <td>0</td>\n",
       "      <td>0</td>\n",
       "      <td>0</td>\n",
       "      <td>0</td>\n",
       "      <td>0</td>\n",
       "      <td>0</td>\n",
       "      <td>0</td>\n",
       "      <td>0</td>\n",
       "    </tr>\n",
       "    <tr>\n",
       "      <th>PhoneService</th>\n",
       "      <td>No</td>\n",
       "      <td>Yes</td>\n",
       "      <td>Yes</td>\n",
       "      <td>Yes</td>\n",
       "      <td>No</td>\n",
       "      <td>Yes</td>\n",
       "      <td>Yes</td>\n",
       "      <td>Yes</td>\n",
       "      <td>Yes</td>\n",
       "      <td>Yes</td>\n",
       "      <td>Yes</td>\n",
       "    </tr>\n",
       "    <tr>\n",
       "      <th>MultipleLines</th>\n",
       "      <td>No phone service</td>\n",
       "      <td>No</td>\n",
       "      <td>No</td>\n",
       "      <td>Yes</td>\n",
       "      <td>No phone service</td>\n",
       "      <td>No</td>\n",
       "      <td>Yes</td>\n",
       "      <td>No</td>\n",
       "      <td>No</td>\n",
       "      <td>Yes</td>\n",
       "      <td>Yes</td>\n",
       "    </tr>\n",
       "    <tr>\n",
       "      <th>InternetService</th>\n",
       "      <td>DSL</td>\n",
       "      <td>No</td>\n",
       "      <td>DSL</td>\n",
       "      <td>No</td>\n",
       "      <td>DSL</td>\n",
       "      <td>No</td>\n",
       "      <td>No</td>\n",
       "      <td>No</td>\n",
       "      <td>No</td>\n",
       "      <td>DSL</td>\n",
       "      <td>DSL</td>\n",
       "    </tr>\n",
       "    <tr>\n",
       "      <th>OnlineSecurity</th>\n",
       "      <td>Yes</td>\n",
       "      <td>No internet service</td>\n",
       "      <td>Yes</td>\n",
       "      <td>No internet service</td>\n",
       "      <td>Yes</td>\n",
       "      <td>No internet service</td>\n",
       "      <td>No internet service</td>\n",
       "      <td>No internet service</td>\n",
       "      <td>No internet service</td>\n",
       "      <td>No</td>\n",
       "      <td>Yes</td>\n",
       "    </tr>\n",
       "    <tr>\n",
       "      <th>OnlineBackup</th>\n",
       "      <td>No</td>\n",
       "      <td>No internet service</td>\n",
       "      <td>Yes</td>\n",
       "      <td>No internet service</td>\n",
       "      <td>Yes</td>\n",
       "      <td>No internet service</td>\n",
       "      <td>No internet service</td>\n",
       "      <td>No internet service</td>\n",
       "      <td>No internet service</td>\n",
       "      <td>Yes</td>\n",
       "      <td>Yes</td>\n",
       "    </tr>\n",
       "    <tr>\n",
       "      <th>DeviceProtection</th>\n",
       "      <td>Yes</td>\n",
       "      <td>No internet service</td>\n",
       "      <td>Yes</td>\n",
       "      <td>No internet service</td>\n",
       "      <td>Yes</td>\n",
       "      <td>No internet service</td>\n",
       "      <td>No internet service</td>\n",
       "      <td>No internet service</td>\n",
       "      <td>No internet service</td>\n",
       "      <td>Yes</td>\n",
       "      <td>No</td>\n",
       "    </tr>\n",
       "    <tr>\n",
       "      <th>TechSupport</th>\n",
       "      <td>Yes</td>\n",
       "      <td>No internet service</td>\n",
       "      <td>No</td>\n",
       "      <td>No internet service</td>\n",
       "      <td>Yes</td>\n",
       "      <td>No internet service</td>\n",
       "      <td>No internet service</td>\n",
       "      <td>No internet service</td>\n",
       "      <td>No internet service</td>\n",
       "      <td>Yes</td>\n",
       "      <td>Yes</td>\n",
       "    </tr>\n",
       "    <tr>\n",
       "      <th>StreamingTV</th>\n",
       "      <td>Yes</td>\n",
       "      <td>No internet service</td>\n",
       "      <td>Yes</td>\n",
       "      <td>No internet service</td>\n",
       "      <td>Yes</td>\n",
       "      <td>No internet service</td>\n",
       "      <td>No internet service</td>\n",
       "      <td>No internet service</td>\n",
       "      <td>No internet service</td>\n",
       "      <td>Yes</td>\n",
       "      <td>No</td>\n",
       "    </tr>\n",
       "    <tr>\n",
       "      <th>StreamingMovies</th>\n",
       "      <td>No</td>\n",
       "      <td>No internet service</td>\n",
       "      <td>Yes</td>\n",
       "      <td>No internet service</td>\n",
       "      <td>No</td>\n",
       "      <td>No internet service</td>\n",
       "      <td>No internet service</td>\n",
       "      <td>No internet service</td>\n",
       "      <td>No internet service</td>\n",
       "      <td>No</td>\n",
       "      <td>No</td>\n",
       "    </tr>\n",
       "    <tr>\n",
       "      <th>Contract</th>\n",
       "      <td>Two year</td>\n",
       "      <td>Two year</td>\n",
       "      <td>Two year</td>\n",
       "      <td>Two year</td>\n",
       "      <td>Two year</td>\n",
       "      <td>Two year</td>\n",
       "      <td>Two year</td>\n",
       "      <td>Two year</td>\n",
       "      <td>One year</td>\n",
       "      <td>Two year</td>\n",
       "      <td>Two year</td>\n",
       "    </tr>\n",
       "    <tr>\n",
       "      <th>PaperlessBilling</th>\n",
       "      <td>Yes</td>\n",
       "      <td>No</td>\n",
       "      <td>No</td>\n",
       "      <td>No</td>\n",
       "      <td>No</td>\n",
       "      <td>No</td>\n",
       "      <td>No</td>\n",
       "      <td>No</td>\n",
       "      <td>Yes</td>\n",
       "      <td>No</td>\n",
       "      <td>Yes</td>\n",
       "    </tr>\n",
       "    <tr>\n",
       "      <th>PaymentMethod</th>\n",
       "      <td>Bank transfer (automatic)</td>\n",
       "      <td>Mailed check</td>\n",
       "      <td>Mailed check</td>\n",
       "      <td>Mailed check</td>\n",
       "      <td>Credit card (automatic)</td>\n",
       "      <td>Mailed check</td>\n",
       "      <td>Mailed check</td>\n",
       "      <td>Mailed check</td>\n",
       "      <td>Mailed check</td>\n",
       "      <td>Mailed check</td>\n",
       "      <td>Bank transfer (automatic)</td>\n",
       "    </tr>\n",
       "    <tr>\n",
       "      <th>MonthlyCharges</th>\n",
       "      <td>52.55</td>\n",
       "      <td>20.25</td>\n",
       "      <td>80.85</td>\n",
       "      <td>25.75</td>\n",
       "      <td>56.05</td>\n",
       "      <td>19.85</td>\n",
       "      <td>25.35</td>\n",
       "      <td>20.0</td>\n",
       "      <td>19.7</td>\n",
       "      <td>73.35</td>\n",
       "      <td>61.9</td>\n",
       "    </tr>\n",
       "    <tr>\n",
       "      <th>TotalCharges</th>\n",
       "      <td>NaN</td>\n",
       "      <td>NaN</td>\n",
       "      <td>NaN</td>\n",
       "      <td>NaN</td>\n",
       "      <td>NaN</td>\n",
       "      <td>NaN</td>\n",
       "      <td>NaN</td>\n",
       "      <td>NaN</td>\n",
       "      <td>NaN</td>\n",
       "      <td>NaN</td>\n",
       "      <td>NaN</td>\n",
       "    </tr>\n",
       "    <tr>\n",
       "      <th>Churn</th>\n",
       "      <td>No</td>\n",
       "      <td>No</td>\n",
       "      <td>No</td>\n",
       "      <td>No</td>\n",
       "      <td>No</td>\n",
       "      <td>No</td>\n",
       "      <td>No</td>\n",
       "      <td>No</td>\n",
       "      <td>No</td>\n",
       "      <td>No</td>\n",
       "      <td>No</td>\n",
       "    </tr>\n",
       "  </tbody>\n",
       "</table>\n",
       "</div>"
      ],
      "text/plain": [
       "                                       488                  753   \\\n",
       "gender                               Female                 Male   \n",
       "SeniorCitizen                             0                    0   \n",
       "Partner                                 Yes                   No   \n",
       "Dependents                              Yes                  Yes   \n",
       "tenure                                    0                    0   \n",
       "PhoneService                             No                  Yes   \n",
       "MultipleLines              No phone service                   No   \n",
       "InternetService                         DSL                   No   \n",
       "OnlineSecurity                          Yes  No internet service   \n",
       "OnlineBackup                             No  No internet service   \n",
       "DeviceProtection                        Yes  No internet service   \n",
       "TechSupport                             Yes  No internet service   \n",
       "StreamingTV                             Yes  No internet service   \n",
       "StreamingMovies                          No  No internet service   \n",
       "Contract                           Two year             Two year   \n",
       "PaperlessBilling                        Yes                   No   \n",
       "PaymentMethod     Bank transfer (automatic)         Mailed check   \n",
       "MonthlyCharges                        52.55                20.25   \n",
       "TotalCharges                            NaN                  NaN   \n",
       "Churn                                    No                   No   \n",
       "\n",
       "                          936                  1082                     1340  \\\n",
       "gender                  Female                 Male                   Female   \n",
       "SeniorCitizen                0                    0                        0   \n",
       "Partner                    Yes                  Yes                      Yes   \n",
       "Dependents                 Yes                  Yes                      Yes   \n",
       "tenure                       0                    0                        0   \n",
       "PhoneService               Yes                  Yes                       No   \n",
       "MultipleLines               No                  Yes         No phone service   \n",
       "InternetService            DSL                   No                      DSL   \n",
       "OnlineSecurity             Yes  No internet service                      Yes   \n",
       "OnlineBackup               Yes  No internet service                      Yes   \n",
       "DeviceProtection           Yes  No internet service                      Yes   \n",
       "TechSupport                 No  No internet service                      Yes   \n",
       "StreamingTV                Yes  No internet service                      Yes   \n",
       "StreamingMovies            Yes  No internet service                       No   \n",
       "Contract              Two year             Two year                 Two year   \n",
       "PaperlessBilling            No                   No                       No   \n",
       "PaymentMethod     Mailed check         Mailed check  Credit card (automatic)   \n",
       "MonthlyCharges           80.85                25.75                    56.05   \n",
       "TotalCharges               NaN                  NaN                      NaN   \n",
       "Churn                       No                   No                       No   \n",
       "\n",
       "                                 3331                 3826  \\\n",
       "gender                           Male                 Male   \n",
       "SeniorCitizen                       0                    0   \n",
       "Partner                           Yes                  Yes   \n",
       "Dependents                        Yes                  Yes   \n",
       "tenure                              0                    0   \n",
       "PhoneService                      Yes                  Yes   \n",
       "MultipleLines                      No                  Yes   \n",
       "InternetService                    No                   No   \n",
       "OnlineSecurity    No internet service  No internet service   \n",
       "OnlineBackup      No internet service  No internet service   \n",
       "DeviceProtection  No internet service  No internet service   \n",
       "TechSupport       No internet service  No internet service   \n",
       "StreamingTV       No internet service  No internet service   \n",
       "StreamingMovies   No internet service  No internet service   \n",
       "Contract                     Two year             Two year   \n",
       "PaperlessBilling                   No                   No   \n",
       "PaymentMethod            Mailed check         Mailed check   \n",
       "MonthlyCharges                  19.85                25.35   \n",
       "TotalCharges                      NaN                  NaN   \n",
       "Churn                              No                   No   \n",
       "\n",
       "                                 4380                 5218          6670  \\\n",
       "gender                         Female                 Male        Female   \n",
       "SeniorCitizen                       0                    0             0   \n",
       "Partner                           Yes                  Yes           Yes   \n",
       "Dependents                        Yes                  Yes           Yes   \n",
       "tenure                              0                    0             0   \n",
       "PhoneService                      Yes                  Yes           Yes   \n",
       "MultipleLines                      No                   No           Yes   \n",
       "InternetService                    No                   No           DSL   \n",
       "OnlineSecurity    No internet service  No internet service            No   \n",
       "OnlineBackup      No internet service  No internet service           Yes   \n",
       "DeviceProtection  No internet service  No internet service           Yes   \n",
       "TechSupport       No internet service  No internet service           Yes   \n",
       "StreamingTV       No internet service  No internet service           Yes   \n",
       "StreamingMovies   No internet service  No internet service            No   \n",
       "Contract                     Two year             One year      Two year   \n",
       "PaperlessBilling                   No                  Yes            No   \n",
       "PaymentMethod            Mailed check         Mailed check  Mailed check   \n",
       "MonthlyCharges                   20.0                 19.7         73.35   \n",
       "TotalCharges                      NaN                  NaN           NaN   \n",
       "Churn                              No                   No            No   \n",
       "\n",
       "                                       6754  \n",
       "gender                                 Male  \n",
       "SeniorCitizen                             0  \n",
       "Partner                                  No  \n",
       "Dependents                              Yes  \n",
       "tenure                                    0  \n",
       "PhoneService                            Yes  \n",
       "MultipleLines                           Yes  \n",
       "InternetService                         DSL  \n",
       "OnlineSecurity                          Yes  \n",
       "OnlineBackup                            Yes  \n",
       "DeviceProtection                         No  \n",
       "TechSupport                             Yes  \n",
       "StreamingTV                              No  \n",
       "StreamingMovies                          No  \n",
       "Contract                           Two year  \n",
       "PaperlessBilling                        Yes  \n",
       "PaymentMethod     Bank transfer (automatic)  \n",
       "MonthlyCharges                         61.9  \n",
       "TotalCharges                            NaN  \n",
       "Churn                                    No  "
      ]
     },
     "execution_count": 9,
     "metadata": {
     },
     "output_type": "execute_result"
    }
   ],
   "source": [
    "data.loc[data['TotalCharges'].isnull()].T"
   ]
  },
  {
   "cell_type": "code",
   "execution_count": 10,
   "metadata": {
    "collapsed": false
   },
   "outputs": [
    {
     "data": {
      "text/plain": [
       "11"
      ]
     },
     "execution_count": 10,
     "metadata": {
     },
     "output_type": "execute_result"
    }
   ],
   "source": [
    "data.query(\"tenure == 0\").shape[0]"
   ]
  },
  {
   "cell_type": "code",
   "execution_count": 11,
   "metadata": {
    "collapsed": false
   },
   "outputs": [
   ],
   "source": [
    "data = data.query(\"tenure != 0\")\n",
    "# 重置索引\n",
    "data = data.reset_index().drop('index',axis=1)  "
   ]
  },
  {
   "cell_type": "code",
   "execution_count": 12,
   "metadata": {
    "collapsed": false
   },
   "outputs": [
    {
     "name": "stdout",
     "output_type": "stream",
     "text": [
      "Male      3549\n",
      "Female    3483\n",
      "Name: gender, dtype: int64\n",
      "--------------------------------------------------\n",
      "No     3639\n",
      "Yes    3393\n",
      "Name: Partner, dtype: int64\n",
      "--------------------------------------------------\n",
      "No     4933\n",
      "Yes    2099\n",
      "Name: Dependents, dtype: int64\n",
      "--------------------------------------------------\n",
      "Yes    6352\n",
      "No      680\n",
      "Name: PhoneService, dtype: int64\n",
      "--------------------------------------------------\n",
      "No                  3385\n",
      "Yes                 2967\n",
      "No phone service     680\n",
      "Name: MultipleLines, dtype: int64\n",
      "--------------------------------------------------\n",
      "Fiber optic    3096\n",
      "DSL            2416\n",
      "No             1520\n",
      "Name: InternetService, dtype: int64\n",
      "--------------------------------------------------\n",
      "No                     3497\n",
      "Yes                    2015\n",
      "No internet service    1520\n",
      "Name: OnlineSecurity, dtype: int64\n",
      "--------------------------------------------------\n",
      "No                     3087\n",
      "Yes                    2425\n",
      "No internet service    1520\n",
      "Name: OnlineBackup, dtype: int64\n",
      "--------------------------------------------------\n",
      "No                     3094\n",
      "Yes                    2418\n",
      "No internet service    1520\n",
      "Name: DeviceProtection, dtype: int64\n",
      "--------------------------------------------------\n",
      "No                     3472\n",
      "Yes                    2040\n",
      "No internet service    1520\n",
      "Name: TechSupport, dtype: int64\n",
      "--------------------------------------------------\n",
      "No                     2809\n",
      "Yes                    2703\n",
      "No internet service    1520\n",
      "Name: StreamingTV, dtype: int64\n",
      "--------------------------------------------------\n",
      "No                     2781\n",
      "Yes                    2731\n",
      "No internet service    1520\n",
      "Name: StreamingMovies, dtype: int64\n",
      "--------------------------------------------------\n",
      "Month-to-month    3875\n",
      "Two year          1685\n",
      "One year          1472\n",
      "Name: Contract, dtype: int64\n",
      "--------------------------------------------------\n",
      "Yes    4168\n",
      "No     2864\n",
      "Name: PaperlessBilling, dtype: int64\n",
      "--------------------------------------------------\n",
      "Electronic check             2365\n",
      "Mailed check                 1604\n",
      "Bank transfer (automatic)    1542\n",
      "Credit card (automatic)      1521\n",
      "Name: PaymentMethod, dtype: int64\n",
      "--------------------------------------------------\n",
      "No     5163\n",
      "Yes    1869\n",
      "Name: Churn, dtype: int64\n",
      "--------------------------------------------------\n"
     ]
    }
   ],
   "source": [
    "for i in data.select_dtypes(include=\"object\").columns:\n",
    "    print(data[i].value_counts())\n",
    "    print('-'*50)"
   ]
  },
  {
   "cell_type": "code",
   "execution_count": 13,
   "metadata": {
    "collapsed": false
   },
   "outputs": [
   ],
   "source": [
    "data.Churn = data.Churn.map({'No':0,'Yes':1})"
   ]
  },
  {
   "cell_type": "code",
   "execution_count": 14,
   "metadata": {
    "collapsed": false
   },
   "outputs": [
    {
     "name": "stderr",
     "output_type": "stream",
     "text": [
      "findfont: Font family ['sans-serif'] not found. Falling back to DejaVu Sans.\n"
     ]
    },
    {
     "name": "stderr",
     "output_type": "stream",
     "text": [
      "findfont: Generic family 'sans-serif' not found because none of the following families were found: SimHei\n"
     ]
    },
    {
     "data": {
      "image/png": "[encoded data removed]",
      "text/plain": [
       "<Figure size 1440x576 with 6 Axes>"
      ]
     },
     "execution_count": 14,
     "metadata": {
      "image/png": {
       "height": 479,
       "width": 1156
      },
      "needs_background": "light"
     },
     "output_type": "execute_result"
    }
   ],
   "source": [
    "fig, ax= plt.subplots(nrows=2, ncols=3, figsize = (20,8))\n",
    "for i, feature in enumerate(['tenure','MonthlyCharges','TotalCharges']):\n",
    "    data.loc[data.Churn == 1, feature].hist(ax=ax[0][i], bins=30)\n",
    "    data.loc[data.Churn == 0, feature].hist(ax=ax[1][i], bins=30, )\n",
    "    ax[0][i].set_xlabel(feature+' Churn=0')\n",
    "    ax[1][i].set_xlabel(feature+' Churn=1')"
   ]
  },
  {
   "cell_type": "code",
   "execution_count": 15,
   "metadata": {
    "collapsed": false
   },
   "outputs": [
   ],
   "source": [
    "data['TotalCharges_diff'] = data.tenure * data.MonthlyCharges - data.TotalCharges\n",
    "\n",
    "def func(x):\n",
    "    if x > 0:\n",
    "        res = 2  # 2表示月费增加\n",
    "    elif x == 0: \n",
    "        res = 1  # 1表示月费持平\n",
    "    else:\n",
    "        res = 0  # 0表示月费减少\n",
    "    return res\n",
    "data['TotalCharges_diff1'] = data['TotalCharges_diff'].apply(lambda x:func(x))\n",
    "data.drop('TotalCharges_diff', axis=1, inplace=True)"
   ]
  },
  {
   "cell_type": "code",
   "execution_count": 16,
   "metadata": {
    "collapsed": false
   },
   "outputs": [
   ],
   "source": [
    "data['tenure'] = pd.qcut(data['tenure'], q=5, labels=['tenure_'+str(i) for i in range(1,6)])\n",
    "data['MonthlyCharges'] = pd.qcut(data['MonthlyCharges'], q=5, labels=['MonthlyCharges_'+str(i) for i in range(1,6)])\n",
    "data['TotalCharges'], _ = stats.boxcox(data['TotalCharges'])"
   ]
  },
  {
   "cell_type": "code",
   "execution_count": 17,
   "metadata": {
    "collapsed": false
   },
   "outputs": [
    {
     "data": {
      "text/plain": [
       "0    5163\n",
       "1    1869\n",
       "Name: Churn, dtype: int64"
      ]
     },
     "execution_count": 17,
     "metadata": {
     },
     "output_type": "execute_result"
    }
   ],
   "source": [
    "X = data[data.columns.drop('Churn')]\n",
    "y = data.Churn\n",
    "\n",
    "# 生成哑变量\n",
    "X = pd.get_dummies(X)\n",
    "\n",
    "# 标准化\n",
    "scaler = StandardScaler() \n",
    "scale_data = scaler.fit_transform(X)  \n",
    "X = pd.DataFrame(scale_data, columns = X.columns)\n",
    "\n",
    "y.value_counts()"
   ]
  },
  {
   "cell_type": "code",
   "execution_count": 18,
   "metadata": {
    "collapsed": false
   },
   "outputs": [
    {
     "data": {
      "text/plain": [
       "0    5163\n",
       "1    5163\n",
       "Name: Churn, dtype: int64"
      ]
     },
     "execution_count": 18,
     "metadata": {
     },
     "output_type": "execute_result"
    }
   ],
   "source": [
    "model_smote = SMOTE(random_state=10)  # 建立SMOTE模型对象\n",
    "X_smote, y_smote = model_smote.fit_resample(X, y)  \n",
    "\n",
    "\n",
    "y_smote.value_counts()"
   ]
  },
  {
   "cell_type": "code",
   "execution_count": 19,
   "metadata": {
    "collapsed": false
   },
   "outputs": [
    {
     "data": {
      "text/plain": [
       "54"
      ]
     },
     "execution_count": 19,
     "metadata": {
     },
     "output_type": "execute_result"
    }
   ],
   "source": [
    "X_smote.shape[1]"
   ]
  },
  {
   "cell_type": "code",
   "execution_count": 20,
   "metadata": {
    "collapsed": false
   },
   "outputs": [
   ],
   "source": [
    "etc = ExtraTreesClassifier(random_state=9)  # ExtraTree，用于EFE的模型对象\n",
    "selector = RFE(etc, n_features_to_select=30)\n",
    "selected_data = selector.fit_transform(X_smote, y_smote)  # 训练并转换数据\n",
    "X_smote = pd.DataFrame(selected_data, columns = X_smote.columns[selector.get_support()])"
   ]
  },
  {
   "cell_type": "markdown",
   "metadata": {
    "collapsed": false
   },
   "source": [
    "# 2.4 建模"
   ]
  },
  {
   "cell_type": "code",
   "execution_count": 25,
   "metadata": {
    "collapsed": false
   },
   "outputs": [
   ],
   "source": [
    "# 划分训练集、测试集\n",
    "X_train, X_test, y_train, y_test = train_test_split(X_smote, y_smote, stratify=y_smote, random_state=11)"
   ]
  },
  {
   "cell_type": "code",
   "execution_count": 26,
   "metadata": {
    "collapsed": false
   },
   "outputs": [
   ],
   "source": [
    "# 交叉验证输出f1得分\n",
    "def score_cv(model, X, y):\n",
    "    kfold = KFold(n_splits=5, random_state=42, shuffle=True)\n",
    "    f1= cross_val_score(model, X, y, scoring='f1', cv=kfold).mean()\n",
    "    return f1"
   ]
  },
  {
   "cell_type": "code",
   "execution_count": 27,
   "metadata": {
    "collapsed": false
   },
   "outputs": [
   ],
   "source": [
    "# 网格搜索\n",
    "def gridsearch_cv(model, test_param, cv=5):\n",
    "    gsearch = GridSearchCV(estimator=model, param_grid=test_param, scoring='f1', n_jobs=-1, cv=cv)\n",
    "    gsearch.fit(X_train, y_train)\n",
    "    print('Best Params: ', gsearch.best_params_)\n",
    "    print('Best Score: ', gsearch.best_score_)\n",
    "    return gsearch.best_params_"
   ]
  },
  {
   "cell_type": "code",
   "execution_count": 29,
   "metadata": {
    "collapsed": false
   },
   "outputs": [
   ],
   "source": [
    "# 输出预测结果及混淆矩阵等相关指标\n",
    "def model_pred(model):\n",
    "    model.fit(X_train, y_train)\n",
    "    pred = model.predict(X_test)\n",
    "    print('test f1-score: ', metrics.f1_score(y_test, pred))\n",
    "    print('-'*50)\n",
    "    print('classification_report \\n',metrics.classification_report(y_test, pred))\n",
    "    print('-'*50)\n",
    "    tn, fp, fn, tp = metrics.confusion_matrix(y_test, pred).ravel()  # 获得混淆矩阵\n",
    "    confusion_matrix_table = prettytable.PrettyTable(['','actual-1','actual-0'])  # 创建表格实例\n",
    "    confusion_matrix_table.add_row(['prediction-1',tp,fp])  # 增加第一行数据\n",
    "    confusion_matrix_table.add_row(['prediction-0',fn,tn])  # 增加第二行数据\n",
    "    print('confusion matrix \\n',confusion_matrix_table)"
   ]
  },
  {
   "cell_type": "markdown",
   "metadata": {
    "collapsed": false
   },
   "source": [
    "# 2.4.1 逻辑斯蒂回归"
   ]
  },
  {
   "cell_type": "code",
   "execution_count": 42,
   "metadata": {
    "collapsed": false
   },
   "outputs": [
    {
     "data": {
      "text/plain": [
       "0.7858476629776509"
      ]
     },
     "execution_count": 42,
     "metadata": {
     },
     "output_type": "execute_result"
    }
   ],
   "source": [
    "#使用默认参数训练\n",
    "\n",
    "lr = LogisticRegression(random_state=10)\n",
    "lr_f1 = score_cv(lr, X_train, y_train)\n",
    "lr_f1"
   ]
  },
  {
   "cell_type": "code",
   "execution_count": 43,
   "metadata": {
    "collapsed": false
   },
   "outputs": [
    {
     "name": "stdout",
     "output_type": "stream",
     "text": [
      "test f1-score:  0.7856332703213611\n",
      "--------------------------------------------------\n",
      "classification_report \n",
      "               precision    recall  f1-score   support\n",
      "\n",
      "           0       0.79      0.76      0.77      1291\n",
      "           1       0.77      0.80      0.79      1291\n",
      "\n",
      "    accuracy                           0.78      2582\n",
      "   macro avg       0.78      0.78      0.78      2582\n",
      "weighted avg       0.78      0.78      0.78      2582\n",
      "\n",
      "--------------------------------------------------\n",
      "confusion matrix \n",
      " +--------------+----------+----------+\n",
      "|              | actual-1 | actual-0 |\n",
      "+--------------+----------+----------+\n",
      "| prediction-1 |   1039   |   315    |\n",
      "| prediction-0 |   252    |   976    |\n",
      "+--------------+----------+----------+\n"
     ]
    }
   ],
   "source": [
    "model_pred(lr)"
   ]
  },
  {
   "cell_type": "code",
   "execution_count": 44,
   "metadata": {
    "collapsed": false
   },
   "outputs": [
    {
     "name": "stdout",
     "output_type": "stream",
     "text": [
      "Best Params:  {'C': 0.01, 'max_iter': 100, 'penalty': 'l2'}\n",
      "Best Score:  0.787344047255344\n"
     ]
    }
   ],
   "source": [
    "lr_params = {\n",
    "    'C': [0.001, 0.01, 0.1, 1, 10, 100, 1000],\n",
    "    'max_iter': [10, 100, 500],\n",
    "    'penalty': ['l1','l2'],\n",
    "    }\n",
    "lr_best_params = gridsearch_cv(lr, lr_params)"
   ]
  },
  {
   "cell_type": "code",
   "execution_count": 45,
   "metadata": {
    "collapsed": false
   },
   "outputs": [
    {
     "name": "stdout",
     "output_type": "stream",
     "text": [
      "Best Params:  {'C': 0.01, 'max_iter': 30, 'penalty': 'l2'}\n",
      "Best Score:  0.787344047255344\n",
      "CPU times: user 8.38 s, sys: 6.13 s, total: 14.5 s\n",
      "Wall time: 15.2 s\n"
     ]
    }
   ],
   "source": [
    "%%time\n",
    "lr_params1 = {'C': [0.001, 0.01, 0.05, 0.1],\n",
    "              'max_iter': [10, 30, 60, 100],\n",
    "              'penalty': ['l2'],\n",
    "             }\n",
    "\n",
    "lr_best_params = gridsearch_cv(lr, lr_params1)"
   ]
  },
  {
   "cell_type": "code",
   "execution_count": 46,
   "metadata": {
    "collapsed": false
   },
   "outputs": [
    {
     "name": "stdout",
     "output_type": "stream",
     "text": [
      "test f1-score:  0.7863312054074352\n",
      "--------------------------------------------------\n",
      "classification_report \n",
      "               precision    recall  f1-score   support\n",
      "\n",
      "           0       0.80      0.75      0.77      1291\n",
      "           1       0.76      0.81      0.79      1291\n",
      "\n",
      "    accuracy                           0.78      2582\n",
      "   macro avg       0.78      0.78      0.78      2582\n",
      "weighted avg       0.78      0.78      0.78      2582\n",
      "\n",
      "--------------------------------------------------\n",
      "confusion matrix \n",
      " +--------------+----------+----------+\n",
      "|              | actual-1 | actual-0 |\n",
      "+--------------+----------+----------+\n",
      "| prediction-1 |   1047   |   325    |\n",
      "| prediction-0 |   244    |   966    |\n",
      "+--------------+----------+----------+\n"
     ]
    }
   ],
   "source": [
    "# 查看调参后的测试集效果\n",
    "\n",
    "lr_best = LogisticRegression(**lr_best_params, random_state=10)\n",
    "model_pred(lr_best)"
   ]
  },
  {
   "cell_type": "markdown",
   "metadata": {
    "collapsed": false
   },
   "source": [
    "# 2.4.2 SVC"
   ]
  },
  {
   "cell_type": "code",
   "execution_count": 30,
   "metadata": {
    "collapsed": false
   },
   "outputs": [
    {
     "data": {
      "text/plain": [
       "0.8316116213986324"
      ]
     },
     "execution_count": 30,
     "metadata": {
     },
     "output_type": "execute_result"
    }
   ],
   "source": [
    "svc = SVC(random_state=12, probability=True)  # probability默认为False,为True时会输出概率，但是速度会变慢\n",
    "svc_f1 = score_cv(svc, X_train, y_train)\n",
    "svc_f1"
   ]
  },
  {
   "cell_type": "code",
   "execution_count": 31,
   "metadata": {
    "collapsed": false
   },
   "outputs": [
    {
     "name": "stdout",
     "output_type": "stream",
     "text": [
      "test f1-score:  0.8303469309950439\n",
      "--------------------------------------------------\n",
      "classification_report \n",
      "               precision    recall  f1-score   support\n",
      "\n",
      "           0       0.84      0.81      0.82      1291\n",
      "           1       0.82      0.84      0.83      1291\n",
      "\n",
      "    accuracy                           0.83      2582\n",
      "   macro avg       0.83      0.83      0.83      2582\n",
      "weighted avg       0.83      0.83      0.83      2582\n",
      "\n",
      "--------------------------------------------------\n",
      "confusion matrix \n",
      " +--------------+----------+----------+\n",
      "|              | actual-1 | actual-0 |\n",
      "+--------------+----------+----------+\n",
      "| prediction-1 |   1089   |   243    |\n",
      "| prediction-0 |   202    |   1048   |\n",
      "+--------------+----------+----------+\n"
     ]
    }
   ],
   "source": [
    "model_pred(svc)"
   ]
  },
  {
   "cell_type": "code",
   "execution_count": 49,
   "metadata": {
    "collapsed": false
   },
   "outputs": [
    {
     "name": "stdout",
     "output_type": "stream",
     "text": [
      "linear test f1-score: 0.784037, cost time: 18.626908s \n"
     ]
    },
    {
     "name": "stdout",
     "output_type": "stream",
     "text": [
      "poly test f1-score: 0.800826, cost time: 8.918169s \n"
     ]
    },
    {
     "name": "stdout",
     "output_type": "stream",
     "text": [
      "rbf test f1-score: 0.831748, cost time: 8.476216s \n"
     ]
    },
    {
     "name": "stdout",
     "output_type": "stream",
     "text": [
      "sigmoid test f1-score: 0.691233, cost time: 10.688259s \n"
     ]
    }
   ],
   "source": [
    "# SVM的调参开销较大，所以先从核函数的选择开始\n",
    "\n",
    "import time\n",
    "\n",
    "for kernel in [\"linear\",\"poly\",\"rbf\",\"sigmoid\"]:\n",
    "    time_start = time.time()\n",
    "    model = SVC(kernel = kernel,\n",
    "              gamma=\"auto\",\n",
    "             )\n",
    "    f1 = score_cv(model, X_train, y_train)\n",
    "    time_end = time.time()\n",
    "    print(\"{} test f1-score: {:.6f}, cost time: {:.6f}s \".format(kernel, f1, time_end-time_start))"
   ]
  },
  {
   "cell_type": "code",
   "execution_count": 41,
   "metadata": {
    "collapsed": false
   },
   "outputs": [
    {
     "name": "stdout",
     "output_type": "stream",
     "text": [
      "Best Params:  {'C': 10, 'gamma': 0.1, 'kernel': 'rbf'}\n",
      "Best Score:  0.8593453490921974\n"
     ]
    }
   ],
   "source": [
    "# 高斯核的f1交叉验证得分较高，所以选择高斯核进行接下来的调参\n",
    "# %%time\n",
    "svc_params = {\n",
    "    \"kernel\":['rbf'],\n",
    "    \"C\":[0.1, 1, 10, 50], \n",
    "    \"gamma\": [1, 0.1, 0.01]\n",
    "}\n",
    "svc_best_params = gridsearch_cv(svc, svc_params)"
   ]
  },
  {
   "cell_type": "code",
   "execution_count": 39,
   "metadata": {
    "collapsed": false
   },
   "outputs": [
    {
     "name": "stdout",
     "output_type": "stream",
     "text": [
      "Best Params:  {'C': 5, 'gamma': 0.1, 'kernel': 'rbf'}\n",
      "Best Score:  0.8611203019795741\n"
     ]
    }
   ],
   "source": [
    "# 缩小范围继续微调\n",
    "#time\n",
    "svc_params2 = {\n",
    "    \"kernel\":['rbf'],\n",
    "    \"C\":[1, 5, 10, 25, 50], \n",
    "    \"gamma\": [0.5, 0.1, 0.05]\n",
    "}\n",
    "svc_best_params = gridsearch_cv(svc, svc_params2)"
   ]
  },
  {
   "cell_type": "code",
   "execution_count": 42,
   "metadata": {
    "collapsed": false
   },
   "outputs": [
    {
     "name": "stdout",
     "output_type": "stream",
     "text": [
      "Best Params:  {'C': 5, 'gamma': 0.1, 'kernel': 'rbf'}\n",
      "Best Score:  0.8611203019795741\n"
     ]
    }
   ],
   "source": [
    "# 有一定的提升，再次缩小范围\n",
    "#%%time\n",
    "svc_params2 = {\n",
    "    \"kernel\":['rbf'],\n",
    "    \"C\":[1, 3, 5, 7, 10], \n",
    "    \"gamma\": [0.5, 0.1, 0.05]\n",
    "}\n",
    "svc_best_params = gridsearch_cv(svc, svc_params2)"
   ]
  },
  {
   "cell_type": "code",
   "execution_count": 40,
   "metadata": {
    "collapsed": false
   },
   "outputs": [
    {
     "name": "stdout",
     "output_type": "stream",
     "text": [
      "test f1-score:  0.8702742772424017\n",
      "--------------------------------------------------\n",
      "classification_report \n",
      "               precision    recall  f1-score   support\n",
      "\n",
      "           0       0.90      0.82      0.86      1291\n",
      "           1       0.83      0.91      0.87      1291\n",
      "\n",
      "    accuracy                           0.86      2582\n",
      "   macro avg       0.87      0.86      0.86      2582\n",
      "weighted avg       0.87      0.86      0.86      2582\n",
      "\n",
      "--------------------------------------------------\n",
      "confusion matrix \n",
      " +--------------+----------+----------+\n",
      "|              | actual-1 | actual-0 |\n",
      "+--------------+----------+----------+\n",
      "| prediction-1 |   1174   |   233    |\n",
      "| prediction-0 |   117    |   1058   |\n",
      "+--------------+----------+----------+\n"
     ]
    }
   ],
   "source": [
    "# 最佳参数没有发生变化，停止调参\n",
    "# 通过网格调参可见SVC f1得分有了一定的提高，查看其测试集的效果如何\n",
    "svc_best = SVC(**svc_best_params, probability=True, random_state=10)\n",
    "model_pred(svc_best)"
   ]
  },
  {
   "cell_type": "markdown",
   "metadata": {
    "collapsed": false
   },
   "source": [
    "# 2.4.3 随机森林"
   ]
  },
  {
   "cell_type": "code",
   "execution_count": 53,
   "metadata": {
    "collapsed": false
   },
   "outputs": [
    {
     "data": {
      "text/plain": [
       "0.8338731462911035"
      ]
     },
     "execution_count": 53,
     "metadata": {
     },
     "output_type": "execute_result"
    }
   ],
   "source": [
    "rfc = RandomForestClassifier(random_state=11)\n",
    "rfc_f1 = score_cv(rfc, X_train, y_train)\n",
    "rfc_f1"
   ]
  },
  {
   "cell_type": "code",
   "execution_count": 54,
   "metadata": {
    "collapsed": false
   },
   "outputs": [
    {
     "name": "stdout",
     "output_type": "stream",
     "text": [
      "test f1-score:  0.8288643533123029\n",
      "--------------------------------------------------\n",
      "classification_report \n",
      "               precision    recall  f1-score   support\n",
      "\n",
      "           0       0.82      0.85      0.83      1291\n",
      "           1       0.84      0.81      0.83      1291\n",
      "\n",
      "    accuracy                           0.83      2582\n",
      "   macro avg       0.83      0.83      0.83      2582\n",
      "weighted avg       0.83      0.83      0.83      2582\n",
      "\n",
      "--------------------------------------------------\n",
      "confusion matrix \n",
      " +--------------+----------+----------+\n",
      "|              | actual-1 | actual-0 |\n",
      "+--------------+----------+----------+\n",
      "| prediction-1 |   1051   |   194    |\n",
      "| prediction-0 |   240    |   1097   |\n",
      "+--------------+----------+----------+\n"
     ]
    }
   ],
   "source": [
    "model_pred(rfc)"
   ]
  },
  {
   "cell_type": "code",
   "execution_count": 55,
   "metadata": {
    "collapsed": false
   },
   "outputs": [
   ],
   "source": [
    "# 查看特征重要性\n",
    "rfc.fit(X_train, y_train)\n",
    "feature_importance= (pd.DataFrame({'feature': X_train.columns,\n",
    "                                   'feature_importance': rfc.feature_importances_})\n",
    "                       .sort_values('feature_importance', ascending=False)\n",
    "                       .round(4))"
   ]
  },
  {
   "cell_type": "code",
   "execution_count": 56,
   "metadata": {
    "collapsed": false
   },
   "outputs": [
    {
     "data": {
      "image/png": "[encoded data removed]",
      "text/plain": [
       "<Figure size 864x720 with 1 Axes>"
      ]
     },
     "execution_count": 56,
     "metadata": {
      "image/png": {
       "height": 588,
       "width": 873
      },
      "needs_background": "light"
     },
     "output_type": "execute_result"
    }
   ],
   "source": [
    "# 绘制barh图查看特征重要性排序\n",
    "plt.figure(figsize=(12, 10))\n",
    "sns.barplot(x='feature_importance', y='feature', data=feature_importance)\n",
    "plt.show()"
   ]
  },
  {
   "cell_type": "code",
   "execution_count": 57,
   "metadata": {
    "collapsed": false
   },
   "outputs": [
    {
     "name": "stdout",
     "output_type": "stream",
     "text": [
      "best n_estimators is 370, best f1-score is 0.8369555513988509\n"
     ]
    },
    {
     "data": {
      "image/png": "[encoded data removed]",
      "text/plain": [
       "<Figure size 1440x360 with 1 Axes>"
      ]
     },
     "execution_count": 57,
     "metadata": {
      "image/png": {
       "height": 302,
       "width": 1166
      },
      "needs_background": "light"
     },
     "output_type": "execute_result"
    },
    {
     "name": "stdout",
     "output_type": "stream",
     "text": [
      "CPU times: user 2min 57s, sys: 793 ms, total: 2min 58s\n",
      "Wall time: 3min 10s\n"
     ]
    }
   ],
   "source": [
    "# 先调整n_estimators\n",
    "%%time\n",
    "score_list = []\n",
    "n_estimators_range = range(10,501,20)\n",
    "for i in n_estimators_range:\n",
    "    rfc_model = RandomForestClassifier(n_estimators=i, \n",
    "#                                  min_samples_split=20,\n",
    "#                                  min_samples_leaf=20,\n",
    "#                                  max_depth=8,\n",
    "#                                  max_features='sqrt',\n",
    "                                 random_state=10\n",
    "                                )\n",
    "    score = score_cv(rfc_model, X_train, y_train)\n",
    "    score_list.append(score)\n",
    "score_df = pd.DataFrame(score_list, index = n_estimators_range)\n",
    "best_score = score_df.max()[0]\n",
    "best_n_estimators = score_df.idxmax()[0]\n",
    "print(\"best n_estimators is {}, best f1-score is {}\".format(best_n_estimators, best_score))\n",
    "plt.figure(figsize=[20,5])\n",
    "plt.plot(n_estimators_range, score_list)\n",
    "plt.show()"
   ]
  },
  {
   "cell_type": "code",
   "execution_count": 0,
   "metadata": {
    "collapsed": false
   },
   "outputs": [
   ],
   "source": [
    "# 可见n_estimators在200以上时，模型表现已趋于稳定了\n",
    "# 缩小范围\n",
    "\n",
    "%%time\n",
    "score_list1 = []\n",
    "n_estimators_range1 = range(330, 370, 2)\n",
    "for i in n_estimators_range1:\n",
    "    rfc_model = RandomForestClassifier(n_estimators=i, \n",
    "                                 random_state=10\n",
    "                                )\n",
    "    score = score_cv(rfc_model, X_train, y_train)\n",
    "    score_list1.append(score)\n",
    "score_df1 = pd.DataFrame(score_list1, index = n_estimators_range1)\n",
    "best_score1 = score_df1.max()[0]\n",
    "best_n_estimators1 = score_df1.idxmax()[0]\n",
    "print(\"best n_estimators is {}, best f1-score is {}\".format(best_n_estimators1, best_score1))\n",
    "plt.figure(figsize=[20,5])\n",
    "plt.plot(n_estimators_range1, score_list1)\n",
    "plt.show()  "
   ]
  },
  {
   "cell_type": "code",
   "execution_count": 0,
   "metadata": {
    "collapsed": false
   },
   "outputs": [
   ],
   "source": [
    "# 可见n_estimators=352时，f1得分最高\n",
    "# 调整max_depth\n",
    "%%time\n",
    "rfc_params = {\n",
    "    'n_estimators':[352],\n",
    "    'max_depth':np.arange(2, 30, 1)\n",
    "}\n",
    "\n",
    "rfc_best_params = gridsearch_cv(rfc, rfc_params)"
   ]
  },
  {
   "cell_type": "code",
   "execution_count": 0,
   "metadata": {
    "collapsed": false
   },
   "outputs": [
   ],
   "source": [
    "# 有提升\n",
    "# 调整max_features\n",
    "%%time\n",
    "rfc_params1 = {\n",
    "    'n_estimators':[352],\n",
    "    'max_depth':[14],\n",
    "    'max_features':np.arange(2, 30, 1)\n",
    "}\n",
    "\n",
    "rfc_best_params = gridsearch_cv(rfc, rfc_params1)"
   ]
  },
  {
   "cell_type": "code",
   "execution_count": 0,
   "metadata": {
    "collapsed": false
   },
   "outputs": [
   ],
   "source": [
    "# 有轻微提升\n",
    "# 调整min_samples_leaf\n",
    "%%time\n",
    "\n",
    "rfc_params2 = {\n",
    "    'n_estimators':[352],\n",
    "    'max_depth':[14],\n",
    "    'max_features':[3],\n",
    "    'min_samples_leaf':np.arange(1, 11, 1)\n",
    "}"
   ]
  },
  {
   "cell_type": "code",
   "execution_count": 0,
   "metadata": {
    "collapsed": false
   },
   "outputs": [
   ],
   "source": [
    "# 没有提升，这里就不再尝试了\n",
    "# 查看调参之后的测试集效果\n",
    "rfc_best = RandomForestClassifier(**rfc_best_params)\n",
    "model_pred(rfc_best) "
   ]
  },
  {
   "cell_type": "markdown",
   "metadata": {
    "collapsed": false
   },
   "source": [
    "# 2.4.4 XGBoost"
   ]
  },
  {
   "cell_type": "code",
   "execution_count": 0,
   "metadata": {
    "collapsed": false
   },
   "outputs": [
   ],
   "source": [
    "xgbc = xgb.XGBClassifier(random_state=10)\n",
    "xgbc_f1 = score_cv(xgbc, X_train, y_train)\n",
    "xgbc_f1 "
   ]
  },
  {
   "cell_type": "code",
   "execution_count": 0,
   "metadata": {
    "collapsed": false
   },
   "outputs": [
   ],
   "source": [
    "model_pred(xgbc)"
   ]
  },
  {
   "cell_type": "code",
   "execution_count": 0,
   "metadata": {
    "collapsed": false
   },
   "outputs": [
   ],
   "source": [
    "# 使用模型自带的cv进行调参n_estimators\n",
    "\n",
    "def model_cv(model, X, y, cv_folds=5, early_stopping_rounds=50, seed=0):\n",
    "    xgb_param = model.get_xgb_params()\n",
    "    xgtrain = xgb.DMatrix(X, label=y)\n",
    "    cvresult = xgb.cv(xgb_param, xgtrain, num_boost_round=model.get_params()['n_estimators'], nfold=cv_folds,\n",
    "                    metrics='auc', seed=seed, callbacks=[\n",
    "            xgb.callback.print_evaluation(show_stdv=False),\n",
    "            xgb.callback.early_stop(early_stopping_rounds)\n",
    "       ])\n",
    "    num_round_best = cvresult.shape[0] - 1\n",
    "    print('Best round num: ', num_round_best)\n",
    "    return num_round_best"
   ]
  },
  {
   "cell_type": "code",
   "execution_count": 0,
   "metadata": {
    "collapsed": false
   },
   "outputs": [
   ],
   "source": [
    "# 设置初始参数\n",
    "xgbc_params = {\n",
    "    'n_estimators':5000,\n",
    "    'seed':0,\n",
    "    'max_depth':3,\n",
    "    'min_child_weight':7,\n",
    "    'gamma':0,\n",
    "    'subsample':0.8,\n",
    "    'colsample_bytree':0.8,\n",
    "    'scale_pos_weight':1,\n",
    "    'reg_alpha':1,\n",
    "    'reg_lambda': 1e-5,\n",
    "    'learning_rate': 0.1,\n",
    "    'objective':'binary:logistic',\n",
    "}\n",
    "\n",
    "xgbc_model = xgb.XGBClassifier(**xgbc_params)\n",
    "num_round = model_cv(xgbc_model, X_train, y_train)"
   ]
  },
  {
   "cell_type": "code",
   "execution_count": 0,
   "metadata": {
    "collapsed": false
   },
   "outputs": [
   ],
   "source": [
    "# 由于自带的交叉验证没有f1得分，需要自定义，所以使用auc得分来选择最佳树的数量\n",
    "# 调参max_depth 和 min_child_weight\n",
    "\n",
    "%%time\n",
    "xgbc_param1 = {\n",
    "    'n_estimators':[181],\n",
    "    'max_depth': range(3, 10, 2),\n",
    "    'min_child_weight': range(1, 10, 2)\n",
    "}\n",
    "xgbc_best_params = gridsearch_cv(xgbc, xgbc_param1) "
   ]
  },
  {
   "cell_type": "code",
   "execution_count": 0,
   "metadata": {
    "collapsed": false
   },
   "outputs": [
   ],
   "source": [
    "# 有较大的提升\n",
    "# 缩小范围\n",
    "%%time\n",
    "xgbc_param2 = {\n",
    "    'n_estimators':[181],\n",
    "    'max_depth': range(2, 5, 1),\n",
    "    'min_child_weight': range(4, 7, 1)\n",
    "}\n",
    "xgbc_best_params = gridsearch_cv(xgbc, xgbc_param2)"
   ]
  },
  {
   "cell_type": "code",
   "execution_count": 0,
   "metadata": {
    "collapsed": false
   },
   "outputs": [
   ],
   "source": [
    "# 有小幅提升\n",
    "# 接下来调整 gamma\n",
    "\n",
    "%%time\n",
    "xgbc_param3 = {\n",
    "    'n_estimators':[181],\n",
    "    'max_depth': [2],\n",
    "    'min_child_weight': [5],\n",
    "    'gamma':[0, 0.1, 1, 10]\n",
    "}\n",
    "xgbc_best_params = gridsearch_cv(xgbc, xgbc_param3)"
   ]
  },
  {
   "cell_type": "code",
   "execution_count": 0,
   "metadata": {
    "collapsed": false
   },
   "outputs": [
   ],
   "source": [
    "# 没有变化\n",
    "# subsample与colsample_bytree\n",
    "\n",
    "xgbc_param4 = {\n",
    "    'n_estimators':[181],\n",
    "    'max_depth': [2],\n",
    "    'min_child_weight': [5],\n",
    "    'subsample': np.linspace(0.6, 1, 9),\n",
    "    'colsample_bytree': np.linspace(0.6, 1, 9)\n",
    "}\n",
    "xgbc_best_params = gridsearch_cv(xgbc, xgbc_param4)\n"
   ]
  },
  {
   "cell_type": "code",
   "execution_count": 0,
   "metadata": {
    "collapsed": false
   },
   "outputs": [
   ],
   "source": [
    "# 有一点点提升\n",
    "# reg_alpha与reg_lambda\n",
    "\n",
    "%%time\n",
    "xgbc_param5 = {\n",
    "    'n_estimators':[181],\n",
    "    'max_depth': [2],\n",
    "    'min_child_weight': [5],\n",
    "    'subsample': [1],\n",
    "    'colsample_bytree': [0.85],\n",
    "    'reg_alpha': [1e-5, 1e-2, 0.1, 1, 100, 1000],\n",
    "    'reg_lambda': [1e-5, 1e-2, 0.1, 1, 100, 1000]\n",
    "}"
   ]
  },
  {
   "cell_type": "code",
   "execution_count": 0,
   "metadata": {
    "collapsed": false
   },
   "outputs": [
   ],
   "source": [
    "xgbc_best = xgb.XGBClassifier(**xgbc_best_params, random_state=10)\n",
    "model_pred(xgbc_best)\n"
   ]
  }
 ],
 "metadata": {
  "kernelspec": {
   "display_name": "Python 3 (system-wide)",
   "language": "python",
   "metadata": {
    "cocalc": {
     "description": "Python 3 programming language",
     "priority": 100,
     "url": "https://www.python.org/"
    }
   },
   "name": "python3",
   "resource_dir": "/ext/jupyter/kernels/python3"
  },
  "language_info": {
   "codemirror_mode": {
    "name": "ipython",
    "version": 3
   },
   "file_extension": ".py",
   "mimetype": "text/x-python",
   "name": "python",
   "nbconvert_exporter": "python",
   "pygments_lexer": "ipython3",
   "version": "3.8.10"
  }
 },
 "nbformat": 4,
 "nbformat_minor": 4
}