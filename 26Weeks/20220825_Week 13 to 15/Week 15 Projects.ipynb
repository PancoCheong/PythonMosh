{
 "cells": [
  {
   "cell_type": "markdown",
   "metadata": {},
   "source": [
    "# Week 15: Projects "
   ]
  },
  {
   "cell_type": "code",
   "execution_count": 3,
   "metadata": {},
   "outputs": [],
   "source": [
    "import pandas as pd\n",
    "import numpy as np\n",
    "import re\n",
    "import pickle\n",
    "import matplotlib.pyplot as plt\n",
    "import seaborn as sns"
   ]
  },
  {
   "cell_type": "code",
   "execution_count": 4,
   "metadata": {},
   "outputs": [],
   "source": [
    "#csv file\n",
    "df_avatar = pd.read_csv('avatar.csv', engine='python', encoding='unicode_escape')\n",
    "df_avatar.drop('Unnamed: 0', axis=1, inplace=True)\n",
    "#droping scenes description\n",
    "index_scene = df_avatar[df_avatar['character']=='Scene Description'].index.values\n",
    "df_avatar.drop(index_scene, axis=0, inplace=True)"
   ]
  },
  {
   "cell_type": "markdown",
   "metadata": {},
   "source": [
    "### Lines per top character"
   ]
  },
  {
   "cell_type": "code",
   "execution_count": 8,
   "metadata": {},
   "outputs": [
    {
     "data": {
      "text/html": [
       "<div>\n",
       "<style scoped>\n",
       "    .dataframe tbody tr th:only-of-type {\n",
       "        vertical-align: middle;\n",
       "    }\n",
       "\n",
       "    .dataframe tbody tr th {\n",
       "        vertical-align: top;\n",
       "    }\n",
       "\n",
       "    .dataframe thead th {\n",
       "        text-align: right;\n",
       "    }\n",
       "</style>\n",
       "<table border=\"1\" class=\"dataframe\">\n",
       "  <thead>\n",
       "    <tr style=\"text-align: right;\">\n",
       "      <th></th>\n",
       "      <th>id</th>\n",
       "      <th>book</th>\n",
       "      <th>book_num</th>\n",
       "      <th>chapter</th>\n",
       "      <th>chapter_num</th>\n",
       "      <th>full_text</th>\n",
       "      <th>character_words</th>\n",
       "      <th>writer</th>\n",
       "      <th>director</th>\n",
       "      <th>imdb_rating</th>\n",
       "    </tr>\n",
       "    <tr>\n",
       "      <th>character</th>\n",
       "      <th></th>\n",
       "      <th></th>\n",
       "      <th></th>\n",
       "      <th></th>\n",
       "      <th></th>\n",
       "      <th></th>\n",
       "      <th></th>\n",
       "      <th></th>\n",
       "      <th></th>\n",
       "      <th></th>\n",
       "    </tr>\n",
       "  </thead>\n",
       "  <tbody>\n",
       "    <tr>\n",
       "      <th>Aang</th>\n",
       "      <td>1796</td>\n",
       "      <td>1796</td>\n",
       "      <td>1796</td>\n",
       "      <td>1796</td>\n",
       "      <td>1796</td>\n",
       "      <td>1796</td>\n",
       "      <td>1796</td>\n",
       "      <td>1796</td>\n",
       "      <td>1796</td>\n",
       "      <td>1766</td>\n",
       "    </tr>\n",
       "    <tr>\n",
       "      <th>Sokka</th>\n",
       "      <td>1639</td>\n",
       "      <td>1639</td>\n",
       "      <td>1639</td>\n",
       "      <td>1639</td>\n",
       "      <td>1639</td>\n",
       "      <td>1639</td>\n",
       "      <td>1639</td>\n",
       "      <td>1639</td>\n",
       "      <td>1639</td>\n",
       "      <td>1627</td>\n",
       "    </tr>\n",
       "    <tr>\n",
       "      <th>Katara</th>\n",
       "      <td>1437</td>\n",
       "      <td>1437</td>\n",
       "      <td>1437</td>\n",
       "      <td>1437</td>\n",
       "      <td>1437</td>\n",
       "      <td>1437</td>\n",
       "      <td>1437</td>\n",
       "      <td>1437</td>\n",
       "      <td>1437</td>\n",
       "      <td>1429</td>\n",
       "    </tr>\n",
       "    <tr>\n",
       "      <th>Zuko</th>\n",
       "      <td>776</td>\n",
       "      <td>776</td>\n",
       "      <td>776</td>\n",
       "      <td>776</td>\n",
       "      <td>776</td>\n",
       "      <td>776</td>\n",
       "      <td>776</td>\n",
       "      <td>776</td>\n",
       "      <td>776</td>\n",
       "      <td>766</td>\n",
       "    </tr>\n",
       "    <tr>\n",
       "      <th>Toph</th>\n",
       "      <td>507</td>\n",
       "      <td>507</td>\n",
       "      <td>507</td>\n",
       "      <td>507</td>\n",
       "      <td>507</td>\n",
       "      <td>507</td>\n",
       "      <td>507</td>\n",
       "      <td>507</td>\n",
       "      <td>507</td>\n",
       "      <td>507</td>\n",
       "    </tr>\n",
       "    <tr>\n",
       "      <th>Iroh</th>\n",
       "      <td>337</td>\n",
       "      <td>337</td>\n",
       "      <td>337</td>\n",
       "      <td>337</td>\n",
       "      <td>337</td>\n",
       "      <td>337</td>\n",
       "      <td>337</td>\n",
       "      <td>337</td>\n",
       "      <td>337</td>\n",
       "      <td>328</td>\n",
       "    </tr>\n",
       "    <tr>\n",
       "      <th>Azula</th>\n",
       "      <td>211</td>\n",
       "      <td>211</td>\n",
       "      <td>211</td>\n",
       "      <td>211</td>\n",
       "      <td>211</td>\n",
       "      <td>211</td>\n",
       "      <td>211</td>\n",
       "      <td>211</td>\n",
       "      <td>211</td>\n",
       "      <td>211</td>\n",
       "    </tr>\n",
       "    <tr>\n",
       "      <th>Jet</th>\n",
       "      <td>134</td>\n",
       "      <td>134</td>\n",
       "      <td>134</td>\n",
       "      <td>134</td>\n",
       "      <td>134</td>\n",
       "      <td>134</td>\n",
       "      <td>134</td>\n",
       "      <td>134</td>\n",
       "      <td>134</td>\n",
       "      <td>134</td>\n",
       "    </tr>\n",
       "    <tr>\n",
       "      <th>Suki</th>\n",
       "      <td>114</td>\n",
       "      <td>114</td>\n",
       "      <td>114</td>\n",
       "      <td>114</td>\n",
       "      <td>114</td>\n",
       "      <td>114</td>\n",
       "      <td>114</td>\n",
       "      <td>114</td>\n",
       "      <td>114</td>\n",
       "      <td>114</td>\n",
       "    </tr>\n",
       "    <tr>\n",
       "      <th>Zhao</th>\n",
       "      <td>107</td>\n",
       "      <td>107</td>\n",
       "      <td>107</td>\n",
       "      <td>107</td>\n",
       "      <td>107</td>\n",
       "      <td>107</td>\n",
       "      <td>107</td>\n",
       "      <td>107</td>\n",
       "      <td>107</td>\n",
       "      <td>94</td>\n",
       "    </tr>\n",
       "  </tbody>\n",
       "</table>\n",
       "</div>"
      ],
      "text/plain": [
       "             id  book  book_num  chapter  chapter_num  full_text  \\\n",
       "character                                                          \n",
       "Aang       1796  1796      1796     1796         1796       1796   \n",
       "Sokka      1639  1639      1639     1639         1639       1639   \n",
       "Katara     1437  1437      1437     1437         1437       1437   \n",
       "Zuko        776   776       776      776          776        776   \n",
       "Toph        507   507       507      507          507        507   \n",
       "Iroh        337   337       337      337          337        337   \n",
       "Azula       211   211       211      211          211        211   \n",
       "Jet         134   134       134      134          134        134   \n",
       "Suki        114   114       114      114          114        114   \n",
       "Zhao        107   107       107      107          107        107   \n",
       "\n",
       "           character_words  writer  director  imdb_rating  \n",
       "character                                                  \n",
       "Aang                  1796    1796      1796         1766  \n",
       "Sokka                 1639    1639      1639         1627  \n",
       "Katara                1437    1437      1437         1429  \n",
       "Zuko                   776     776       776          766  \n",
       "Toph                   507     507       507          507  \n",
       "Iroh                   337     337       337          328  \n",
       "Azula                  211     211       211          211  \n",
       "Jet                    134     134       134          134  \n",
       "Suki                   114     114       114          114  \n",
       "Zhao                   107     107       107           94  "
      ]
     },
     "execution_count": 8,
     "metadata": {},
     "output_type": "execute_result"
    }
   ],
   "source": [
    "df_avatar_lines = df_avatar.groupby('character').count().sort_values(by=['character_words'], ascending=False)[:10]\n",
    "top_character_names = df_avatar_lines.reset_index()['character'].values\n",
    "df_avatar_lines[['character_words']]\n",
    "df_avatar_lines"
   ]
  },
  {
   "cell_type": "markdown",
   "metadata": {},
   "source": [
    "### Lines per character in each season / Top character per book"
   ]
  },
  {
   "cell_type": "code",
   "execution_count": 9,
   "metadata": {
    "scrolled": true
   },
   "outputs": [
    {
     "data": {
      "text/html": [
       "<div>\n",
       "<style scoped>\n",
       "    .dataframe tbody tr th:only-of-type {\n",
       "        vertical-align: middle;\n",
       "    }\n",
       "\n",
       "    .dataframe tbody tr th {\n",
       "        vertical-align: top;\n",
       "    }\n",
       "\n",
       "    .dataframe thead th {\n",
       "        text-align: right;\n",
       "    }\n",
       "</style>\n",
       "<table border=\"1\" class=\"dataframe\">\n",
       "  <thead>\n",
       "    <tr style=\"text-align: right;\">\n",
       "      <th></th>\n",
       "      <th>character</th>\n",
       "      <th>book</th>\n",
       "      <th>character_words</th>\n",
       "    </tr>\n",
       "  </thead>\n",
       "  <tbody>\n",
       "    <tr>\n",
       "      <th>0</th>\n",
       "      <td>Aang</td>\n",
       "      <td>Water</td>\n",
       "      <td>818</td>\n",
       "    </tr>\n",
       "    <tr>\n",
       "      <th>1</th>\n",
       "      <td>Katara</td>\n",
       "      <td>Water</td>\n",
       "      <td>636</td>\n",
       "    </tr>\n",
       "    <tr>\n",
       "      <th>2</th>\n",
       "      <td>Sokka</td>\n",
       "      <td>Water</td>\n",
       "      <td>614</td>\n",
       "    </tr>\n",
       "    <tr>\n",
       "      <th>3</th>\n",
       "      <td>Sokka</td>\n",
       "      <td>Fire</td>\n",
       "      <td>526</td>\n",
       "    </tr>\n",
       "    <tr>\n",
       "      <th>4</th>\n",
       "      <td>Sokka</td>\n",
       "      <td>Earth</td>\n",
       "      <td>499</td>\n",
       "    </tr>\n",
       "    <tr>\n",
       "      <th>5</th>\n",
       "      <td>Aang</td>\n",
       "      <td>Earth</td>\n",
       "      <td>492</td>\n",
       "    </tr>\n",
       "    <tr>\n",
       "      <th>6</th>\n",
       "      <td>Aang</td>\n",
       "      <td>Fire</td>\n",
       "      <td>486</td>\n",
       "    </tr>\n",
       "    <tr>\n",
       "      <th>7</th>\n",
       "      <td>Zuko</td>\n",
       "      <td>Fire</td>\n",
       "      <td>433</td>\n",
       "    </tr>\n",
       "    <tr>\n",
       "      <th>8</th>\n",
       "      <td>Katara</td>\n",
       "      <td>Earth</td>\n",
       "      <td>413</td>\n",
       "    </tr>\n",
       "    <tr>\n",
       "      <th>9</th>\n",
       "      <td>Katara</td>\n",
       "      <td>Fire</td>\n",
       "      <td>388</td>\n",
       "    </tr>\n",
       "    <tr>\n",
       "      <th>10</th>\n",
       "      <td>Toph</td>\n",
       "      <td>Fire</td>\n",
       "      <td>265</td>\n",
       "    </tr>\n",
       "    <tr>\n",
       "      <th>11</th>\n",
       "      <td>Toph</td>\n",
       "      <td>Earth</td>\n",
       "      <td>242</td>\n",
       "    </tr>\n",
       "    <tr>\n",
       "      <th>12</th>\n",
       "      <td>Iroh</td>\n",
       "      <td>Earth</td>\n",
       "      <td>181</td>\n",
       "    </tr>\n",
       "    <tr>\n",
       "      <th>13</th>\n",
       "      <td>Zuko</td>\n",
       "      <td>Water</td>\n",
       "      <td>174</td>\n",
       "    </tr>\n",
       "    <tr>\n",
       "      <th>14</th>\n",
       "      <td>Zuko</td>\n",
       "      <td>Earth</td>\n",
       "      <td>169</td>\n",
       "    </tr>\n",
       "    <tr>\n",
       "      <th>15</th>\n",
       "      <td>Iroh</td>\n",
       "      <td>Water</td>\n",
       "      <td>129</td>\n",
       "    </tr>\n",
       "    <tr>\n",
       "      <th>16</th>\n",
       "      <td>Azula</td>\n",
       "      <td>Fire</td>\n",
       "      <td>119</td>\n",
       "    </tr>\n",
       "    <tr>\n",
       "      <th>17</th>\n",
       "      <td>Zhao</td>\n",
       "      <td>Water</td>\n",
       "      <td>107</td>\n",
       "    </tr>\n",
       "    <tr>\n",
       "      <th>18</th>\n",
       "      <td>Azula</td>\n",
       "      <td>Earth</td>\n",
       "      <td>92</td>\n",
       "    </tr>\n",
       "    <tr>\n",
       "      <th>19</th>\n",
       "      <td>Jet</td>\n",
       "      <td>Water</td>\n",
       "      <td>74</td>\n",
       "    </tr>\n",
       "    <tr>\n",
       "      <th>20</th>\n",
       "      <td>Jet</td>\n",
       "      <td>Earth</td>\n",
       "      <td>60</td>\n",
       "    </tr>\n",
       "    <tr>\n",
       "      <th>21</th>\n",
       "      <td>Suki</td>\n",
       "      <td>Fire</td>\n",
       "      <td>58</td>\n",
       "    </tr>\n",
       "    <tr>\n",
       "      <th>22</th>\n",
       "      <td>Suki</td>\n",
       "      <td>Earth</td>\n",
       "      <td>31</td>\n",
       "    </tr>\n",
       "    <tr>\n",
       "      <th>23</th>\n",
       "      <td>Iroh</td>\n",
       "      <td>Fire</td>\n",
       "      <td>27</td>\n",
       "    </tr>\n",
       "    <tr>\n",
       "      <th>24</th>\n",
       "      <td>Suki</td>\n",
       "      <td>Water</td>\n",
       "      <td>25</td>\n",
       "    </tr>\n",
       "  </tbody>\n",
       "</table>\n",
       "</div>"
      ],
      "text/plain": [
       "   character   book  character_words\n",
       "0       Aang  Water              818\n",
       "1     Katara  Water              636\n",
       "2      Sokka  Water              614\n",
       "3      Sokka   Fire              526\n",
       "4      Sokka  Earth              499\n",
       "5       Aang  Earth              492\n",
       "6       Aang   Fire              486\n",
       "7       Zuko   Fire              433\n",
       "8     Katara  Earth              413\n",
       "9     Katara   Fire              388\n",
       "10      Toph   Fire              265\n",
       "11      Toph  Earth              242\n",
       "12      Iroh  Earth              181\n",
       "13      Zuko  Water              174\n",
       "14      Zuko  Earth              169\n",
       "15      Iroh  Water              129\n",
       "16     Azula   Fire              119\n",
       "17      Zhao  Water              107\n",
       "18     Azula  Earth               92\n",
       "19       Jet  Water               74\n",
       "20       Jet  Earth               60\n",
       "21      Suki   Fire               58\n",
       "22      Suki  Earth               31\n",
       "23      Iroh   Fire               27\n",
       "24      Suki  Water               25"
      ]
     },
     "execution_count": 9,
     "metadata": {},
     "output_type": "execute_result"
    }
   ],
   "source": [
    "df_top_characters = df_avatar[df_avatar['character'].isin(top_character_names)]\n",
    "df_top_characters = df_top_characters.groupby(['character', 'book']).count().sort_values(by=['character_words'], ascending=False).reset_index()\n",
    "df_top_characters = df_top_characters[['character', 'book','character_words']]\n",
    "df_top_characters"
   ]
  },
  {
   "cell_type": "markdown",
   "metadata": {},
   "source": [
    "### Barplot"
   ]
  },
  {
   "cell_type": "code",
   "execution_count": 10,
   "metadata": {},
   "outputs": [
    {
     "data": {
      "application/vnd.plotly.v1+json": {
       "config": {
        "plotlyServerURL": "https://plot.ly"
       },
       "data": [
        {
         "alignmentgroup": "True",
         "hovertemplate": "book=Water<br>character_words=%{x}<br>character=%{y}<extra></extra>",
         "legendgroup": "Water",
         "marker": {
          "color": "#3A7FC4",
          "pattern": {
           "shape": ""
          }
         },
         "name": "Water",
         "offsetgroup": "Water",
         "orientation": "h",
         "showlegend": true,
         "textposition": "auto",
         "type": "bar",
         "x": [
          818,
          636,
          614,
          174,
          129,
          107,
          74,
          25
         ],
         "xaxis": "x",
         "y": [
          "Aang",
          "Katara",
          "Sokka",
          "Zuko",
          "Iroh",
          "Zhao",
          "Jet",
          "Suki"
         ],
         "yaxis": "y"
        },
        {
         "alignmentgroup": "True",
         "hovertemplate": "book=Fire<br>character_words=%{x}<br>character=%{y}<extra></extra>",
         "legendgroup": "Fire",
         "marker": {
          "color": "#C43A3A",
          "pattern": {
           "shape": ""
          }
         },
         "name": "Fire",
         "offsetgroup": "Fire",
         "orientation": "h",
         "showlegend": true,
         "textposition": "auto",
         "type": "bar",
         "x": [
          526,
          486,
          433,
          388,
          265,
          119,
          58,
          27
         ],
         "xaxis": "x",
         "y": [
          "Sokka",
          "Aang",
          "Zuko",
          "Katara",
          "Toph",
          "Azula",
          "Suki",
          "Iroh"
         ],
         "yaxis": "y"
        },
        {
         "alignmentgroup": "True",
         "hovertemplate": "book=Earth<br>character_words=%{x}<br>character=%{y}<extra></extra>",
         "legendgroup": "Earth",
         "marker": {
          "color": "#BB653B",
          "pattern": {
           "shape": ""
          }
         },
         "name": "Earth",
         "offsetgroup": "Earth",
         "orientation": "h",
         "showlegend": true,
         "textposition": "auto",
         "type": "bar",
         "x": [
          499,
          492,
          413,
          242,
          181,
          169,
          92,
          60,
          31
         ],
         "xaxis": "x",
         "y": [
          "Sokka",
          "Aang",
          "Katara",
          "Toph",
          "Iroh",
          "Zuko",
          "Azula",
          "Jet",
          "Suki"
         ],
         "yaxis": "y"
        }
       ],
       "layout": {
        "barmode": "relative",
        "legend": {
         "title": {
          "text": "book"
         },
         "tracegroupgap": 0
        },
        "template": {
         "data": {
          "bar": [
           {
            "error_x": {
             "color": "#2a3f5f"
            },
            "error_y": {
             "color": "#2a3f5f"
            },
            "marker": {
             "line": {
              "color": "white",
              "width": 0.5
             },
             "pattern": {
              "fillmode": "overlay",
              "size": 10,
              "solidity": 0.2
             }
            },
            "type": "bar"
           }
          ],
          "barpolar": [
           {
            "marker": {
             "line": {
              "color": "white",
              "width": 0.5
             },
             "pattern": {
              "fillmode": "overlay",
              "size": 10,
              "solidity": 0.2
             }
            },
            "type": "barpolar"
           }
          ],
          "carpet": [
           {
            "aaxis": {
             "endlinecolor": "#2a3f5f",
             "gridcolor": "#C8D4E3",
             "linecolor": "#C8D4E3",
             "minorgridcolor": "#C8D4E3",
             "startlinecolor": "#2a3f5f"
            },
            "baxis": {
             "endlinecolor": "#2a3f5f",
             "gridcolor": "#C8D4E3",
             "linecolor": "#C8D4E3",
             "minorgridcolor": "#C8D4E3",
             "startlinecolor": "#2a3f5f"
            },
            "type": "carpet"
           }
          ],
          "choropleth": [
           {
            "colorbar": {
             "outlinewidth": 0,
             "ticks": ""
            },
            "type": "choropleth"
           }
          ],
          "contour": [
           {
            "colorbar": {
             "outlinewidth": 0,
             "ticks": ""
            },
            "colorscale": [
             [
              0,
              "#0d0887"
             ],
             [
              0.1111111111111111,
              "#46039f"
             ],
             [
              0.2222222222222222,
              "#7201a8"
             ],
             [
              0.3333333333333333,
              "#9c179e"
             ],
             [
              0.4444444444444444,
              "#bd3786"
             ],
             [
              0.5555555555555556,
              "#d8576b"
             ],
             [
              0.6666666666666666,
              "#ed7953"
             ],
             [
              0.7777777777777778,
              "#fb9f3a"
             ],
             [
              0.8888888888888888,
              "#fdca26"
             ],
             [
              1,
              "#f0f921"
             ]
            ],
            "type": "contour"
           }
          ],
          "contourcarpet": [
           {
            "colorbar": {
             "outlinewidth": 0,
             "ticks": ""
            },
            "type": "contourcarpet"
           }
          ],
          "heatmap": [
           {
            "colorbar": {
             "outlinewidth": 0,
             "ticks": ""
            },
            "colorscale": [
             [
              0,
              "#0d0887"
             ],
             [
              0.1111111111111111,
              "#46039f"
             ],
             [
              0.2222222222222222,
              "#7201a8"
             ],
             [
              0.3333333333333333,
              "#9c179e"
             ],
             [
              0.4444444444444444,
              "#bd3786"
             ],
             [
              0.5555555555555556,
              "#d8576b"
             ],
             [
              0.6666666666666666,
              "#ed7953"
             ],
             [
              0.7777777777777778,
              "#fb9f3a"
             ],
             [
              0.8888888888888888,
              "#fdca26"
             ],
             [
              1,
              "#f0f921"
             ]
            ],
            "type": "heatmap"
           }
          ],
          "heatmapgl": [
           {
            "colorbar": {
             "outlinewidth": 0,
             "ticks": ""
            },
            "colorscale": [
             [
              0,
              "#0d0887"
             ],
             [
              0.1111111111111111,
              "#46039f"
             ],
             [
              0.2222222222222222,
              "#7201a8"
             ],
             [
              0.3333333333333333,
              "#9c179e"
             ],
             [
              0.4444444444444444,
              "#bd3786"
             ],
             [
              0.5555555555555556,
              "#d8576b"
             ],
             [
              0.6666666666666666,
              "#ed7953"
             ],
             [
              0.7777777777777778,
              "#fb9f3a"
             ],
             [
              0.8888888888888888,
              "#fdca26"
             ],
             [
              1,
              "#f0f921"
             ]
            ],
            "type": "heatmapgl"
           }
          ],
          "histogram": [
           {
            "marker": {
             "pattern": {
              "fillmode": "overlay",
              "size": 10,
              "solidity": 0.2
             }
            },
            "type": "histogram"
           }
          ],
          "histogram2d": [
           {
            "colorbar": {
             "outlinewidth": 0,
             "ticks": ""
            },
            "colorscale": [
             [
              0,
              "#0d0887"
             ],
             [
              0.1111111111111111,
              "#46039f"
             ],
             [
              0.2222222222222222,
              "#7201a8"
             ],
             [
              0.3333333333333333,
              "#9c179e"
             ],
             [
              0.4444444444444444,
              "#bd3786"
             ],
             [
              0.5555555555555556,
              "#d8576b"
             ],
             [
              0.6666666666666666,
              "#ed7953"
             ],
             [
              0.7777777777777778,
              "#fb9f3a"
             ],
             [
              0.8888888888888888,
              "#fdca26"
             ],
             [
              1,
              "#f0f921"
             ]
            ],
            "type": "histogram2d"
           }
          ],
          "histogram2dcontour": [
           {
            "colorbar": {
             "outlinewidth": 0,
             "ticks": ""
            },
            "colorscale": [
             [
              0,
              "#0d0887"
             ],
             [
              0.1111111111111111,
              "#46039f"
             ],
             [
              0.2222222222222222,
              "#7201a8"
             ],
             [
              0.3333333333333333,
              "#9c179e"
             ],
             [
              0.4444444444444444,
              "#bd3786"
             ],
             [
              0.5555555555555556,
              "#d8576b"
             ],
             [
              0.6666666666666666,
              "#ed7953"
             ],
             [
              0.7777777777777778,
              "#fb9f3a"
             ],
             [
              0.8888888888888888,
              "#fdca26"
             ],
             [
              1,
              "#f0f921"
             ]
            ],
            "type": "histogram2dcontour"
           }
          ],
          "mesh3d": [
           {
            "colorbar": {
             "outlinewidth": 0,
             "ticks": ""
            },
            "type": "mesh3d"
           }
          ],
          "parcoords": [
           {
            "line": {
             "colorbar": {
              "outlinewidth": 0,
              "ticks": ""
             }
            },
            "type": "parcoords"
           }
          ],
          "pie": [
           {
            "automargin": true,
            "type": "pie"
           }
          ],
          "scatter": [
           {
            "fillpattern": {
             "fillmode": "overlay",
             "size": 10,
             "solidity": 0.2
            },
            "type": "scatter"
           }
          ],
          "scatter3d": [
           {
            "line": {
             "colorbar": {
              "outlinewidth": 0,
              "ticks": ""
             }
            },
            "marker": {
             "colorbar": {
              "outlinewidth": 0,
              "ticks": ""
             }
            },
            "type": "scatter3d"
           }
          ],
          "scattercarpet": [
           {
            "marker": {
             "colorbar": {
              "outlinewidth": 0,
              "ticks": ""
             }
            },
            "type": "scattercarpet"
           }
          ],
          "scattergeo": [
           {
            "marker": {
             "colorbar": {
              "outlinewidth": 0,
              "ticks": ""
             }
            },
            "type": "scattergeo"
           }
          ],
          "scattergl": [
           {
            "marker": {
             "colorbar": {
              "outlinewidth": 0,
              "ticks": ""
             }
            },
            "type": "scattergl"
           }
          ],
          "scattermapbox": [
           {
            "marker": {
             "colorbar": {
              "outlinewidth": 0,
              "ticks": ""
             }
            },
            "type": "scattermapbox"
           }
          ],
          "scatterpolar": [
           {
            "marker": {
             "colorbar": {
              "outlinewidth": 0,
              "ticks": ""
             }
            },
            "type": "scatterpolar"
           }
          ],
          "scatterpolargl": [
           {
            "marker": {
             "colorbar": {
              "outlinewidth": 0,
              "ticks": ""
             }
            },
            "type": "scatterpolargl"
           }
          ],
          "scatterternary": [
           {
            "marker": {
             "colorbar": {
              "outlinewidth": 0,
              "ticks": ""
             }
            },
            "type": "scatterternary"
           }
          ],
          "surface": [
           {
            "colorbar": {
             "outlinewidth": 0,
             "ticks": ""
            },
            "colorscale": [
             [
              0,
              "#0d0887"
             ],
             [
              0.1111111111111111,
              "#46039f"
             ],
             [
              0.2222222222222222,
              "#7201a8"
             ],
             [
              0.3333333333333333,
              "#9c179e"
             ],
             [
              0.4444444444444444,
              "#bd3786"
             ],
             [
              0.5555555555555556,
              "#d8576b"
             ],
             [
              0.6666666666666666,
              "#ed7953"
             ],
             [
              0.7777777777777778,
              "#fb9f3a"
             ],
             [
              0.8888888888888888,
              "#fdca26"
             ],
             [
              1,
              "#f0f921"
             ]
            ],
            "type": "surface"
           }
          ],
          "table": [
           {
            "cells": {
             "fill": {
              "color": "#EBF0F8"
             },
             "line": {
              "color": "white"
             }
            },
            "header": {
             "fill": {
              "color": "#C8D4E3"
             },
             "line": {
              "color": "white"
             }
            },
            "type": "table"
           }
          ]
         },
         "layout": {
          "annotationdefaults": {
           "arrowcolor": "#2a3f5f",
           "arrowhead": 0,
           "arrowwidth": 1
          },
          "autotypenumbers": "strict",
          "coloraxis": {
           "colorbar": {
            "outlinewidth": 0,
            "ticks": ""
           }
          },
          "colorscale": {
           "diverging": [
            [
             0,
             "#8e0152"
            ],
            [
             0.1,
             "#c51b7d"
            ],
            [
             0.2,
             "#de77ae"
            ],
            [
             0.3,
             "#f1b6da"
            ],
            [
             0.4,
             "#fde0ef"
            ],
            [
             0.5,
             "#f7f7f7"
            ],
            [
             0.6,
             "#e6f5d0"
            ],
            [
             0.7,
             "#b8e186"
            ],
            [
             0.8,
             "#7fbc41"
            ],
            [
             0.9,
             "#4d9221"
            ],
            [
             1,
             "#276419"
            ]
           ],
           "sequential": [
            [
             0,
             "#0d0887"
            ],
            [
             0.1111111111111111,
             "#46039f"
            ],
            [
             0.2222222222222222,
             "#7201a8"
            ],
            [
             0.3333333333333333,
             "#9c179e"
            ],
            [
             0.4444444444444444,
             "#bd3786"
            ],
            [
             0.5555555555555556,
             "#d8576b"
            ],
            [
             0.6666666666666666,
             "#ed7953"
            ],
            [
             0.7777777777777778,
             "#fb9f3a"
            ],
            [
             0.8888888888888888,
             "#fdca26"
            ],
            [
             1,
             "#f0f921"
            ]
           ],
           "sequentialminus": [
            [
             0,
             "#0d0887"
            ],
            [
             0.1111111111111111,
             "#46039f"
            ],
            [
             0.2222222222222222,
             "#7201a8"
            ],
            [
             0.3333333333333333,
             "#9c179e"
            ],
            [
             0.4444444444444444,
             "#bd3786"
            ],
            [
             0.5555555555555556,
             "#d8576b"
            ],
            [
             0.6666666666666666,
             "#ed7953"
            ],
            [
             0.7777777777777778,
             "#fb9f3a"
            ],
            [
             0.8888888888888888,
             "#fdca26"
            ],
            [
             1,
             "#f0f921"
            ]
           ]
          },
          "colorway": [
           "#636efa",
           "#EF553B",
           "#00cc96",
           "#ab63fa",
           "#FFA15A",
           "#19d3f3",
           "#FF6692",
           "#B6E880",
           "#FF97FF",
           "#FECB52"
          ],
          "font": {
           "color": "#2a3f5f"
          },
          "geo": {
           "bgcolor": "white",
           "lakecolor": "white",
           "landcolor": "white",
           "showlakes": true,
           "showland": true,
           "subunitcolor": "#C8D4E3"
          },
          "hoverlabel": {
           "align": "left"
          },
          "hovermode": "closest",
          "mapbox": {
           "style": "light"
          },
          "paper_bgcolor": "white",
          "plot_bgcolor": "white",
          "polar": {
           "angularaxis": {
            "gridcolor": "#EBF0F8",
            "linecolor": "#EBF0F8",
            "ticks": ""
           },
           "bgcolor": "white",
           "radialaxis": {
            "gridcolor": "#EBF0F8",
            "linecolor": "#EBF0F8",
            "ticks": ""
           }
          },
          "scene": {
           "xaxis": {
            "backgroundcolor": "white",
            "gridcolor": "#DFE8F3",
            "gridwidth": 2,
            "linecolor": "#EBF0F8",
            "showbackground": true,
            "ticks": "",
            "zerolinecolor": "#EBF0F8"
           },
           "yaxis": {
            "backgroundcolor": "white",
            "gridcolor": "#DFE8F3",
            "gridwidth": 2,
            "linecolor": "#EBF0F8",
            "showbackground": true,
            "ticks": "",
            "zerolinecolor": "#EBF0F8"
           },
           "zaxis": {
            "backgroundcolor": "white",
            "gridcolor": "#DFE8F3",
            "gridwidth": 2,
            "linecolor": "#EBF0F8",
            "showbackground": true,
            "ticks": "",
            "zerolinecolor": "#EBF0F8"
           }
          },
          "shapedefaults": {
           "line": {
            "color": "#2a3f5f"
           }
          },
          "ternary": {
           "aaxis": {
            "gridcolor": "#DFE8F3",
            "linecolor": "#A2B1C6",
            "ticks": ""
           },
           "baxis": {
            "gridcolor": "#DFE8F3",
            "linecolor": "#A2B1C6",
            "ticks": ""
           },
           "bgcolor": "white",
           "caxis": {
            "gridcolor": "#DFE8F3",
            "linecolor": "#A2B1C6",
            "ticks": ""
           }
          },
          "title": {
           "x": 0.05
          },
          "xaxis": {
           "automargin": true,
           "gridcolor": "#EBF0F8",
           "linecolor": "#EBF0F8",
           "ticks": "",
           "title": {
            "standoff": 15
           },
           "zerolinecolor": "#EBF0F8",
           "zerolinewidth": 2
          },
          "yaxis": {
           "automargin": true,
           "gridcolor": "#EBF0F8",
           "linecolor": "#EBF0F8",
           "ticks": "",
           "title": {
            "standoff": 15
           },
           "zerolinecolor": "#EBF0F8",
           "zerolinewidth": 2
          }
         }
        },
        "title": {
         "text": "Top 10 Avatar Characters Number of Lines"
        },
        "xaxis": {
         "anchor": "y",
         "domain": [
          0,
          1
         ],
         "title": {
          "text": "Number of lines"
         }
        },
        "yaxis": {
         "anchor": "x",
         "domain": [
          0,
          1
         ],
         "title": {
          "text": "Characters"
         }
        }
       }
      }
     },
     "metadata": {},
     "output_type": "display_data"
    }
   ],
   "source": [
    "import plotly_express as px\n",
    "import plotly.graph_objects as go\n",
    "\n",
    "fig = px.bar(df_top_characters, x='character_words', y= 'character', orientation = 'h', \n",
    "             color=df_top_characters['book'], title='Top 10 Avatar Characters Number of Lines', \n",
    "             template = 'plotly_white',\n",
    "             color_discrete_map={'Fire':'#C43A3A', 'Water':'#3A7FC4', 'Earth':'#BB653B'},)\n",
    "fig.update_xaxes(title_text='Number of lines')\n",
    "fig.update_yaxes(title_text='Characters')\n",
    "fig.show()\n"
   ]
  },
  {
   "cell_type": "markdown",
   "metadata": {},
   "source": [
    "# Wordclouds"
   ]
  },
  {
   "cell_type": "code",
   "execution_count": 11,
   "metadata": {},
   "outputs": [],
   "source": [
    "df_water = df_avatar[df_avatar['book']=='Water']\n",
    "df_earth = df_avatar[df_avatar['book']=='Earth']\n",
    "df_fire = df_avatar[df_avatar['book']=='Fire']\n",
    "#clean\n",
    "water_text = ' '.join(df_water['character_words'].values).lower()\n",
    "earth_text = ' '.join(df_earth['character_words'].values).lower()\n",
    "fire_text = ' '.join(df_fire['character_words'].values).lower()"
   ]
  },
  {
   "cell_type": "markdown",
   "metadata": {},
   "source": [
    "### Most repeater words"
   ]
  },
  {
   "cell_type": "code",
   "execution_count": 12,
   "metadata": {
    "scrolled": true
   },
   "outputs": [],
   "source": [
    "from sklearn.feature_extraction.text import CountVectorizer\n",
    "from sklearn.feature_extraction import text \n",
    "import scipy.sparse\n",
    "\n",
    "cv = CountVectorizer() # max_df=0.9\n",
    "cv.fit(df_water['character_words'])\n",
    "cv = CountVectorizer().fit(df_water['character_words'])\n",
    "bag_of_words = cv.transform(df_water['character_words'])\n",
    "sum_words = bag_of_words.sum(axis=0) \n",
    "words_freq = [(word, sum_words[0, idx]) for word, idx in cv.vocabulary_.items()]\n",
    "words_freq =sorted(words_freq, key = lambda x: x[1], reverse=True)"
   ]
  },
  {
   "cell_type": "code",
   "execution_count": 13,
   "metadata": {},
   "outputs": [],
   "source": [
    "# list(map(lambda x:x.lower(), list(top_character_names)))\n",
    "character_names = [i.lower() for i in list(top_character_names)]\n",
    "character_names = set(character_names)"
   ]
  },
  {
   "cell_type": "markdown",
   "metadata": {},
   "source": [
    "### StyleCloud"
   ]
  },
  {
   "cell_type": "code",
   "execution_count": 14,
   "metadata": {},
   "outputs": [],
   "source": [
    "import stylecloud\n",
    "from wordcloud import STOPWORDS\n",
    "\n",
    "my_custom_stopwords = character_names | STOPWORDS\n",
    "#water -> fas fa-tint  ... #3A7FC4\n",
    "#earth -> fas fa-globe-americas #BB653B #9A3F12\n",
    "#fire -> fas fa-fire fas fa-fire-alt... #C43A3A\n",
    "stylecloud.gen_stylecloud(earth_text, palette=\"cmocean.sequential.Matter_16\", \n",
    "                          background_color=\"white\", icon_name= 'fas fa-tint',\n",
    "                          colors=['#3A7FC4', '#3A7FC4', '#3A7FC4'], stopwords=STOPWORDS,\n",
    "                          custom_stopwords = my_custom_stopwords, collocations=False)"
   ]
  },
  {
   "cell_type": "markdown",
   "metadata": {},
   "source": [
    "### WordCloud"
   ]
  },
  {
   "cell_type": "code",
   "execution_count": 15,
   "metadata": {},
   "outputs": [
    {
     "data": {
      "image/png": "[encoded data removed]",
      "text/plain": [
       "<Figure size 2000x1000 with 1 Axes>"
      ]
     },
     "metadata": {},
     "output_type": "display_data"
    }
   ],
   "source": [
    "from wordcloud import WordCloud, ImageColorGenerator\n",
    "from PIL import Image\n",
    "shape = np.array(Image.open('fire.png'))\n",
    "wc = WordCloud(background_color = 'white', mask=shape, collocations=False, width=1600, height=800,\n",
    "              stopwords=my_custom_stopwords)\n",
    "wc.generate(fire_text)\n",
    "\n",
    "def grey_color_func(word, font_size, position,orientation,random_state=None, **kwargs):\n",
    "    return(\"hsl(0,70%%, %d%%)\" % np.random.randint(49,50))\n",
    "\n",
    "image_colors = ImageColorGenerator(shape)\n",
    "wc.recolor(color_func=grey_color_func)\n",
    "plt.figure(figsize=(20,10))\n",
    "plt.imshow(wc)\n",
    "plt.axis('off')\n",
    "plt.show()\n",
    "# wc.to_file(\"fire.png\")"
   ]
  },
  {
   "cell_type": "markdown",
   "metadata": {},
   "source": [
    "### My cabbages!"
   ]
  },
  {
   "cell_type": "code",
   "execution_count": 16,
   "metadata": {},
   "outputs": [
    {
     "data": {
      "text/html": [
       "<div>\n",
       "<style scoped>\n",
       "    .dataframe tbody tr th:only-of-type {\n",
       "        vertical-align: middle;\n",
       "    }\n",
       "\n",
       "    .dataframe tbody tr th {\n",
       "        vertical-align: top;\n",
       "    }\n",
       "\n",
       "    .dataframe thead th {\n",
       "        text-align: right;\n",
       "    }\n",
       "</style>\n",
       "<table border=\"1\" class=\"dataframe\">\n",
       "  <thead>\n",
       "    <tr style=\"text-align: right;\">\n",
       "      <th></th>\n",
       "      <th>id</th>\n",
       "      <th>book</th>\n",
       "      <th>book_num</th>\n",
       "      <th>chapter</th>\n",
       "      <th>chapter_num</th>\n",
       "      <th>character</th>\n",
       "      <th>full_text</th>\n",
       "      <th>character_words</th>\n",
       "      <th>writer</th>\n",
       "      <th>director</th>\n",
       "      <th>imdb_rating</th>\n",
       "    </tr>\n",
       "  </thead>\n",
       "  <tbody>\n",
       "    <tr>\n",
       "      <th>1001</th>\n",
       "      <td>1002</td>\n",
       "      <td>Water</td>\n",
       "      <td>1</td>\n",
       "      <td>The King of Omashu</td>\n",
       "      <td>5</td>\n",
       "      <td>Gate guard</td>\n",
       "      <td>[Angrily.] Rotten cabbages?! [Far off shot of ...</td>\n",
       "      <td>Rotten cabbages?!  What kind of slum do you th...</td>\n",
       "      <td>John O'Bryan</td>\n",
       "      <td>Anthony Lioi</td>\n",
       "      <td>8.2</td>\n",
       "    </tr>\n",
       "    <tr>\n",
       "      <th>1003</th>\n",
       "      <td>1004</td>\n",
       "      <td>Water</td>\n",
       "      <td>1</td>\n",
       "      <td>The King of Omashu</td>\n",
       "      <td>5</td>\n",
       "      <td>Cabbage merchant</td>\n",
       "      <td>[Leaning over the rim of the path. Dramaticall...</td>\n",
       "      <td>No! My cabbages!</td>\n",
       "      <td>John O'Bryan</td>\n",
       "      <td>Anthony Lioi</td>\n",
       "      <td>8.2</td>\n",
       "    </tr>\n",
       "    <tr>\n",
       "      <th>1046</th>\n",
       "      <td>1047</td>\n",
       "      <td>Water</td>\n",
       "      <td>1</td>\n",
       "      <td>The King of Omashu</td>\n",
       "      <td>5</td>\n",
       "      <td>Cabbage merchant</td>\n",
       "      <td>[Grasping his head in despair.] My cabbages! [...</td>\n",
       "      <td>My cabbages!  You're gonna pay for this!</td>\n",
       "      <td>John O'Bryan</td>\n",
       "      <td>Anthony Lioi</td>\n",
       "      <td>8.2</td>\n",
       "    </tr>\n",
       "    <tr>\n",
       "      <th>1048</th>\n",
       "      <td>1049</td>\n",
       "      <td>Water</td>\n",
       "      <td>1</td>\n",
       "      <td>The King of Omashu</td>\n",
       "      <td>5</td>\n",
       "      <td>Aang</td>\n",
       "      <td>[Sheepishly.] Two cabbages please.</td>\n",
       "      <td>Two cabbages please.</td>\n",
       "      <td>John O'Bryan</td>\n",
       "      <td>Anthony Lioi</td>\n",
       "      <td>8.2</td>\n",
       "    </tr>\n",
       "    <tr>\n",
       "      <th>1050</th>\n",
       "      <td>1051</td>\n",
       "      <td>Water</td>\n",
       "      <td>1</td>\n",
       "      <td>The King of Omashu</td>\n",
       "      <td>5</td>\n",
       "      <td>Guard</td>\n",
       "      <td>Your majesty, these juveniles were arrested fo...</td>\n",
       "      <td>Your majesty, these juveniles were arrested fo...</td>\n",
       "      <td>John O'Bryan</td>\n",
       "      <td>Anthony Lioi</td>\n",
       "      <td>8.2</td>\n",
       "    </tr>\n",
       "    <tr>\n",
       "      <th>1203</th>\n",
       "      <td>1204</td>\n",
       "      <td>Water</td>\n",
       "      <td>1</td>\n",
       "      <td>The King of Omashu</td>\n",
       "      <td>5</td>\n",
       "      <td>Cabbage merchant</td>\n",
       "      <td>My cabbages!</td>\n",
       "      <td>My cabbages!</td>\n",
       "      <td>John O'Bryan</td>\n",
       "      <td>Anthony Lioi</td>\n",
       "      <td>8.2</td>\n",
       "    </tr>\n",
       "    <tr>\n",
       "      <th>1938</th>\n",
       "      <td>1939</td>\n",
       "      <td>Water</td>\n",
       "      <td>1</td>\n",
       "      <td>The Waterbending Scroll</td>\n",
       "      <td>9</td>\n",
       "      <td>Cabbage merchant</td>\n",
       "      <td>[Angry.] My cabbages! This place is worse than...</td>\n",
       "      <td>My cabbages! This place is worse than Omashu!</td>\n",
       "      <td>John O'Bryan</td>\n",
       "      <td>Anthony Lioi</td>\n",
       "      <td>8.0</td>\n",
       "    </tr>\n",
       "    <tr>\n",
       "      <th>7208</th>\n",
       "      <td>7209</td>\n",
       "      <td>Earth</td>\n",
       "      <td>2</td>\n",
       "      <td>The Serpent's Pass</td>\n",
       "      <td>12</td>\n",
       "      <td>Cabbage merchant</td>\n",
       "      <td>Ahhh! My cabbages! [He is carried away.]</td>\n",
       "      <td>Ahhh! My cabbages!</td>\n",
       "      <td>Joshua Hamilton, Michael Dante DiMartino</td>\n",
       "      <td>Ethan Spaulding</td>\n",
       "      <td>8.4</td>\n",
       "    </tr>\n",
       "    <tr>\n",
       "      <th>12679</th>\n",
       "      <td>12680</td>\n",
       "      <td>Fire</td>\n",
       "      <td>3</td>\n",
       "      <td>The Ember Island Players</td>\n",
       "      <td>17</td>\n",
       "      <td>Sokka</td>\n",
       "      <td>[Runs in front of him.] Just hear me out. [Pul...</td>\n",
       "      <td>Just hear me out.  Here's something I think th...</td>\n",
       "      <td>Tim Hedrick, Joshua Hamilton, John O'Bryan</td>\n",
       "      <td>Giancarlo Volpe</td>\n",
       "      <td>8.6</td>\n",
       "    </tr>\n",
       "  </tbody>\n",
       "</table>\n",
       "</div>"
      ],
      "text/plain": [
       "          id   book  book_num                   chapter  chapter_num  \\\n",
       "1001    1002  Water         1        The King of Omashu            5   \n",
       "1003    1004  Water         1        The King of Omashu            5   \n",
       "1046    1047  Water         1        The King of Omashu            5   \n",
       "1048    1049  Water         1        The King of Omashu            5   \n",
       "1050    1051  Water         1        The King of Omashu            5   \n",
       "1203    1204  Water         1        The King of Omashu            5   \n",
       "1938    1939  Water         1   The Waterbending Scroll            9   \n",
       "7208    7209  Earth         2        The Serpent's Pass           12   \n",
       "12679  12680   Fire         3  The Ember Island Players           17   \n",
       "\n",
       "              character                                          full_text  \\\n",
       "1001         Gate guard  [Angrily.] Rotten cabbages?! [Far off shot of ...   \n",
       "1003   Cabbage merchant  [Leaning over the rim of the path. Dramaticall...   \n",
       "1046   Cabbage merchant  [Grasping his head in despair.] My cabbages! [...   \n",
       "1048               Aang                 [Sheepishly.] Two cabbages please.   \n",
       "1050              Guard  Your majesty, these juveniles were arrested fo...   \n",
       "1203   Cabbage merchant                                       My cabbages!   \n",
       "1938   Cabbage merchant  [Angry.] My cabbages! This place is worse than...   \n",
       "7208   Cabbage merchant           Ahhh! My cabbages! [He is carried away.]   \n",
       "12679             Sokka  [Runs in front of him.] Just hear me out. [Pul...   \n",
       "\n",
       "                                         character_words  \\\n",
       "1001   Rotten cabbages?!  What kind of slum do you th...   \n",
       "1003                                    No! My cabbages!   \n",
       "1046            My cabbages!  You're gonna pay for this!   \n",
       "1048                                Two cabbages please.   \n",
       "1050   Your majesty, these juveniles were arrested fo...   \n",
       "1203                                        My cabbages!   \n",
       "1938       My cabbages! This place is worse than Omashu!   \n",
       "7208                                  Ahhh! My cabbages!   \n",
       "12679  Just hear me out.  Here's something I think th...   \n",
       "\n",
       "                                           writer         director  \\\n",
       "1001                                 John O'Bryan     Anthony Lioi   \n",
       "1003                                 John O'Bryan     Anthony Lioi   \n",
       "1046                                 John O'Bryan     Anthony Lioi   \n",
       "1048                                 John O'Bryan     Anthony Lioi   \n",
       "1050                                 John O'Bryan     Anthony Lioi   \n",
       "1203                                 John O'Bryan     Anthony Lioi   \n",
       "1938                                 John O'Bryan     Anthony Lioi   \n",
       "7208     Joshua Hamilton, Michael Dante DiMartino  Ethan Spaulding   \n",
       "12679  Tim Hedrick, Joshua Hamilton, John O'Bryan  Giancarlo Volpe   \n",
       "\n",
       "       imdb_rating  \n",
       "1001           8.2  \n",
       "1003           8.2  \n",
       "1046           8.2  \n",
       "1048           8.2  \n",
       "1050           8.2  \n",
       "1203           8.2  \n",
       "1938           8.0  \n",
       "7208           8.4  \n",
       "12679          8.6  "
      ]
     },
     "execution_count": 16,
     "metadata": {},
     "output_type": "execute_result"
    }
   ],
   "source": [
    "#My Cabbages!\n",
    "df_avatar[df_avatar['character_words'].str.contains('cabbages')]\n",
    "#zuko's honor"
   ]
  },
  {
   "cell_type": "markdown",
   "metadata": {},
   "source": [
    "### Dialogue vs IMDB"
   ]
  },
  {
   "cell_type": "code",
   "execution_count": 17,
   "metadata": {},
   "outputs": [
    {
     "data": {
      "image/png": "[encoded data removed]",
      "text/plain": [
       "<Figure size 1400x800 with 1 Axes>"
      ]
     },
     "metadata": {},
     "output_type": "display_data"
    }
   ],
   "source": [
    "#preparing data\n",
    "df_avatar['tokens'] = df_avatar['character_words'].apply(lambda x:len(x.split(' ')))\n",
    "\n",
    "df_avatar['tokens']\n",
    "df_scatter = pd.concat([df_avatar[['book', 'chapter', 'tokens']].groupby('chapter').sum(), \n",
    "           df_avatar[['book', 'chapter', 'imdb_rating']].drop_duplicates(['chapter']).set_index('chapter')],\n",
    "         axis=1)\n",
    "\n",
    "df_scatter.reset_index(inplace=True)\n",
    "df_scatter.rename(columns={'index':'chapter'}, inplace=True)\n",
    "\n",
    "#Static plot\n",
    "fig, ax = plt.subplots(figsize=(14, 8))\n",
    "ax = sns.scatterplot(x='tokens', y='imdb_rating', data=df_scatter, hue='book',\n",
    "                    s=100, palette='deep')\n",
    "\n",
    "# Dynamic/Interactive plot (Plotly)\n",
    "# fig = px.scatter(df_scatter, x='tokens', y= 'imdb_rating', color='book', hover_name='chapter',\n",
    "#                  title='IMDb Ratings vs Number of Spoken Words', template = 'plotly_white',\n",
    "#                  color_discrete_map={'Fire':'#C43A3A', 'Water':'#3A7FC4', 'Earth':'#BB653B'},\n",
    "#                 )\n",
    "# fig.update_xaxes(title_text='Number of Spokens Words')\n",
    "# fig.update_yaxes(title_text='IMDb Rating')\n",
    "# fig.update_traces(marker=dict(size=12,\n",
    "#                               line=dict(width=2,\n",
    "#                                         color='DarkSlateGrey')),\n",
    "#                   selector=dict(mode='markers'))\n",
    "# fig.update_layout(\n",
    "#     font=dict(\n",
    "#         size=13,\n",
    "#     )\n",
    "# )\n",
    "# fig.show()\n",
    "# py.plot(fig, filename = 'avatar_scatter', auto_open=True)"
   ]
  },
  {
   "cell_type": "markdown",
   "metadata": {},
   "source": [
    "### Sentiment Analysis"
   ]
  },
  {
   "cell_type": "code",
   "execution_count": 18,
   "metadata": {},
   "outputs": [
    {
     "name": "stderr",
     "output_type": "stream",
     "text": [
      "[nltk_data] Downloading package vader_lexicon to\n",
      "[nltk_data]     C:\\Users\\516349\\AppData\\Roaming\\nltk_data...\n",
      "[nltk_data]   Package vader_lexicon is already up-to-date!\n"
     ]
    }
   ],
   "source": [
    "import nltk\n",
    "nltk.download('vader_lexicon')\n",
    "from nltk.sentiment.vader import SentimentIntensityAnalyzer"
   ]
  },
  {
   "cell_type": "code",
   "execution_count": 19,
   "metadata": {},
   "outputs": [
    {
     "data": {
      "text/html": [
       "<div>\n",
       "<style scoped>\n",
       "    .dataframe tbody tr th:only-of-type {\n",
       "        vertical-align: middle;\n",
       "    }\n",
       "\n",
       "    .dataframe tbody tr th {\n",
       "        vertical-align: top;\n",
       "    }\n",
       "\n",
       "    .dataframe thead th {\n",
       "        text-align: right;\n",
       "    }\n",
       "</style>\n",
       "<table border=\"1\" class=\"dataframe\">\n",
       "  <thead>\n",
       "    <tr style=\"text-align: right;\">\n",
       "      <th></th>\n",
       "      <th>character</th>\n",
       "      <th>character_words</th>\n",
       "      <th>neg</th>\n",
       "      <th>neu</th>\n",
       "      <th>pos</th>\n",
       "      <th>compound</th>\n",
       "    </tr>\n",
       "  </thead>\n",
       "  <tbody>\n",
       "    <tr>\n",
       "      <th>0</th>\n",
       "      <td>Katara</td>\n",
       "      <td>Water. Earth. Fire. Air. My grandmother used t...</td>\n",
       "      <td>0.196</td>\n",
       "      <td>0.735</td>\n",
       "      <td>0.069</td>\n",
       "      <td>-0.9718</td>\n",
       "    </tr>\n",
       "    <tr>\n",
       "      <th>1</th>\n",
       "      <td>Sokka</td>\n",
       "      <td>It's not getting away from me this time.  Watc...</td>\n",
       "      <td>0.000</td>\n",
       "      <td>1.000</td>\n",
       "      <td>0.000</td>\n",
       "      <td>0.0000</td>\n",
       "    </tr>\n",
       "    <tr>\n",
       "      <th>2</th>\n",
       "      <td>Katara</td>\n",
       "      <td>Sokka, look!</td>\n",
       "      <td>0.000</td>\n",
       "      <td>1.000</td>\n",
       "      <td>0.000</td>\n",
       "      <td>0.0000</td>\n",
       "    </tr>\n",
       "    <tr>\n",
       "      <th>3</th>\n",
       "      <td>Sokka</td>\n",
       "      <td>Sshh! Katara, you're going to scare it away.  ...</td>\n",
       "      <td>0.200</td>\n",
       "      <td>0.800</td>\n",
       "      <td>0.000</td>\n",
       "      <td>-0.5411</td>\n",
       "    </tr>\n",
       "    <tr>\n",
       "      <th>4</th>\n",
       "      <td>Katara</td>\n",
       "      <td>But, Sokka! I caught one!</td>\n",
       "      <td>0.000</td>\n",
       "      <td>1.000</td>\n",
       "      <td>0.000</td>\n",
       "      <td>0.0000</td>\n",
       "    </tr>\n",
       "    <tr>\n",
       "      <th>...</th>\n",
       "      <td>...</td>\n",
       "      <td>...</td>\n",
       "      <td>...</td>\n",
       "      <td>...</td>\n",
       "      <td>...</td>\n",
       "      <td>...</td>\n",
       "    </tr>\n",
       "    <tr>\n",
       "      <th>7053</th>\n",
       "      <td>Zuko</td>\n",
       "      <td>At least you don't look like a boar-q-pine! My...</td>\n",
       "      <td>0.183</td>\n",
       "      <td>0.817</td>\n",
       "      <td>0.000</td>\n",
       "      <td>-0.4007</td>\n",
       "    </tr>\n",
       "    <tr>\n",
       "      <th>7054</th>\n",
       "      <td>Suki</td>\n",
       "      <td>And why did you paint me firebending?</td>\n",
       "      <td>0.000</td>\n",
       "      <td>1.000</td>\n",
       "      <td>0.000</td>\n",
       "      <td>0.0000</td>\n",
       "    </tr>\n",
       "    <tr>\n",
       "      <th>7055</th>\n",
       "      <td>Sokka</td>\n",
       "      <td>I thought it looked more exciting that way.  O...</td>\n",
       "      <td>0.000</td>\n",
       "      <td>0.687</td>\n",
       "      <td>0.313</td>\n",
       "      <td>0.7501</td>\n",
       "    </tr>\n",
       "    <tr>\n",
       "      <th>7056</th>\n",
       "      <td>Iroh</td>\n",
       "      <td>Hey, my belly's not that big anymore. I've rea...</td>\n",
       "      <td>0.000</td>\n",
       "      <td>1.000</td>\n",
       "      <td>0.000</td>\n",
       "      <td>0.0000</td>\n",
       "    </tr>\n",
       "    <tr>\n",
       "      <th>7057</th>\n",
       "      <td>Toph</td>\n",
       "      <td>Well I think you all look perfect!</td>\n",
       "      <td>0.000</td>\n",
       "      <td>0.396</td>\n",
       "      <td>0.604</td>\n",
       "      <td>0.7263</td>\n",
       "    </tr>\n",
       "  </tbody>\n",
       "</table>\n",
       "<p>7058 rows × 6 columns</p>\n",
       "</div>"
      ],
      "text/plain": [
       "     character                                    character_words    neg  \\\n",
       "0       Katara  Water. Earth. Fire. Air. My grandmother used t...  0.196   \n",
       "1        Sokka  It's not getting away from me this time.  Watc...  0.000   \n",
       "2       Katara                                       Sokka, look!  0.000   \n",
       "3        Sokka  Sshh! Katara, you're going to scare it away.  ...  0.200   \n",
       "4       Katara                          But, Sokka! I caught one!  0.000   \n",
       "...        ...                                                ...    ...   \n",
       "7053      Zuko  At least you don't look like a boar-q-pine! My...  0.183   \n",
       "7054      Suki              And why did you paint me firebending?  0.000   \n",
       "7055     Sokka  I thought it looked more exciting that way.  O...  0.000   \n",
       "7056      Iroh  Hey, my belly's not that big anymore. I've rea...  0.000   \n",
       "7057      Toph                 Well I think you all look perfect!  0.000   \n",
       "\n",
       "        neu    pos  compound  \n",
       "0     0.735  0.069   -0.9718  \n",
       "1     1.000  0.000    0.0000  \n",
       "2     1.000  0.000    0.0000  \n",
       "3     0.800  0.000   -0.5411  \n",
       "4     1.000  0.000    0.0000  \n",
       "...     ...    ...       ...  \n",
       "7053  0.817  0.000   -0.4007  \n",
       "7054  1.000  0.000    0.0000  \n",
       "7055  0.687  0.313    0.7501  \n",
       "7056  1.000  0.000    0.0000  \n",
       "7057  0.396  0.604    0.7263  \n",
       "\n",
       "[7058 rows x 6 columns]"
      ]
     },
     "execution_count": 19,
     "metadata": {},
     "output_type": "execute_result"
    }
   ],
   "source": [
    "# top_character_names\n",
    "df_character_sentiment = df_avatar[df_avatar['character'].isin(top_character_names)]\n",
    "df_character_sentiment = df_character_sentiment[['character', 'character_words']]\n",
    "\n",
    "sid = SentimentIntensityAnalyzer()\n",
    "df_character_sentiment.reset_index(inplace=True, drop=True)\n",
    "df_character_sentiment[['neg', 'neu', 'pos', 'compound']] = df_character_sentiment['character_words'].apply(sid.polarity_scores).apply(pd.Series)##\n",
    "\n",
    "df_character_sentiment"
   ]
  },
  {
   "cell_type": "code",
   "execution_count": 20,
   "metadata": {},
   "outputs": [
    {
     "data": {
      "image/png": "[encoded data removed]",
      "text/plain": [
       "<Figure size 1700x1200 with 1 Axes>"
      ]
     },
     "metadata": {},
     "output_type": "display_data"
    }
   ],
   "source": [
    "#data \n",
    "df_character_sentiment = df_character_sentiment.groupby('character').mean().round(3).sort_values('pos', ascending=True)\n",
    "\n",
    "df_character_sentiment.reset_index(inplace=True)\n",
    "n = len(df_character_sentiment['pos'])\n",
    "X = np.arange(n)\n",
    "\n",
    "#bar plot\n",
    "fig = plt.figure(figsize = (17, 12))\n",
    "plt.barh(X, df_character_sentiment['pos'], facecolor='#9999ff', edgecolor='white')\n",
    "plt.barh(X, -df_character_sentiment['neg'], facecolor='#ff9999', edgecolor='white')\n",
    "\n",
    "plt.rcParams.update({'font.size':13})\n",
    "plt.xlim([-.16,.22])\n",
    "plt.yticks(ticks=X, labels=df_character_sentiment['character'], rotation='0')\n",
    "\n",
    "plt.xlabel('Senitment Score')\n",
    "plt.title('Average Sentiment scores of Avatar characters')\n",
    "plt.legend(('Positive Sentiment','Negative Sentiment'))\n",
    "plt.grid(False)\n",
    "plt.savefig('sentiment.png', bbox_inches='tight')\n",
    "plt.show()"
   ]
  },
  {
   "cell_type": "markdown",
   "metadata": {},
   "source": [
    "### Heatmap: Who speaks to whom? "
   ]
  },
  {
   "cell_type": "code",
   "execution_count": 21,
   "metadata": {},
   "outputs": [],
   "source": [
    "df_who_speaks = df_avatar.sort_values(['id'])\n",
    "list_who_speaks = list(df_who_speaks['character'].values)\n",
    "pair_characters = [list_who_speaks[i:i+2] for i in range(0,len(list_who_speaks),1)]\n",
    "\n",
    "pair_characters.pop(-1)\n",
    "pairs=[]\n",
    "for i in pair_characters:\n",
    "    pairs.append('-'.join(i))"
   ]
  },
  {
   "cell_type": "code",
   "execution_count": 22,
   "metadata": {},
   "outputs": [],
   "source": [
    "count_elements = dict((i, pairs.count(i)) for i in set(pairs))"
   ]
  },
  {
   "cell_type": "code",
   "execution_count": 23,
   "metadata": {},
   "outputs": [
    {
     "data": {
      "image/png": "[encoded data removed]",
      "text/plain": [
       "<Figure size 700x500 with 2 Axes>"
      ]
     },
     "metadata": {},
     "output_type": "display_data"
    }
   ],
   "source": [
    "data_heatmap = sorted(count_elements.items(), key=lambda x:x[1], reverse=True)\n",
    "data_heatmap = dict(data_heatmap)\n",
    "\n",
    "x_list = [i.split('-')[0] for i in data_heatmap]\n",
    "y_list = [i.split('-')[1] for i in data_heatmap]\n",
    "z_list = [data_heatmap[i] for i in data_heatmap]\n",
    "\n",
    "x_array = np.array(x_list)\n",
    "y_array = np.array(y_list)\n",
    "z_array = np.array(z_list)\n",
    "\n",
    "df = pd.DataFrame.from_dict(np.array([x_array,y_array,z_array]).T)\n",
    "df = df[df[0].isin(top_character_names)]\n",
    "df = df[df[1].isin(top_character_names)]\n",
    "df.columns = ['X_value','Y_value','Z_value']\n",
    "df['Z_value'] = pd.to_numeric(df['Z_value'])\n",
    "\n",
    "conditions = [df['X_value']==df['Y_value'],\n",
    "              df['X_value']!=df['Y_value']]\n",
    "values = [0, df['Z_value']]\n",
    "\n",
    "df['Z_value'] = np.select(conditions, values)\n",
    "####Scale\n",
    "df['scale'] = np.log(df['Z_value']+1)\n",
    "pivotted= df.pivot('Y_value','X_value','scale')\n",
    "\n",
    "pivotted = pivotted[list(top_character_names[:15])]\n",
    "pivotted = pivotted.reindex(list(top_character_names[:15]))\n",
    "pivotted = pivotted.T #rows speak to columns\n",
    "pivotted = pivotted.fillna(0)\n",
    "pivotted\n",
    "\n",
    "#Colors\n",
    "#RdBu #YlGnBu #sns.cm.rocket\n",
    "\n",
    "#HEATMAP\n",
    "fig, ax = plt.subplots(1, 1, figsize = (7, 5))\n",
    "ax = sns.heatmap(pivotted,cmap='YlGnBu_r', cbar_kws={'ticks':[]})\n",
    "ax.set_ylabel('')    \n",
    "ax.set_xlabel('')\n",
    "fig.tight_layout()\n",
    "fig.savefig('heatmap.png')"
   ]
  }
 ],
 "metadata": {
  "kernelspec": {
   "display_name": "Python 3.10.2 64-bit",
   "language": "python",
   "name": "python3"
  },
  "language_info": {
   "codemirror_mode": {
    "name": "ipython",
    "version": 3
   },
   "file_extension": ".py",
   "mimetype": "text/x-python",
   "name": "python",
   "nbconvert_exporter": "python",
   "pygments_lexer": "ipython3",
   "version": "3.10.2"
  },
  "vscode": {
   "interpreter": {
    "hash": "1f8b93db2f2550b22b0eb0392be17f8640a4ea5289a1ad925a55e50a8aa97a88"
   }
  }
 },
 "nbformat": 4,
 "nbformat_minor": 4
}
