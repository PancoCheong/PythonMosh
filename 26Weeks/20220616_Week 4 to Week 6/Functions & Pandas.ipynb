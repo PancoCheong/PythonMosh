{
 "cells": [
  {
   "cell_type": "markdown",
   "metadata": {},
   "source": [
    "# Week 4 Functions & Modules\n"
   ]
  },
  {
   "cell_type": "markdown",
   "metadata": {},
   "source": [
    "a) Built-in functions"
   ]
  },
  {
   "cell_type": "code",
   "execution_count": 2,
   "metadata": {},
   "outputs": [
    {
     "data": {
      "text/plain": [
       "4"
      ]
     },
     "execution_count": 2,
     "metadata": {},
     "output_type": "execute_result"
    }
   ],
   "source": [
    "# Built-in functions\n",
    "len(['Amy','Betty','Cherry']) #3\n",
    "max([1,11,111]) #111\n",
    "min([-1,-11,-111]) #-111\n",
    "type('Python') #str\n",
    "round(3.14159265358979323, 3) #3.142\n",
    "\n",
    "import math\n",
    "math.floor(3.14159265358979323) #3\n",
    "math.ceil(3.14159265358979323) #4"
   ]
  },
  {
   "cell_type": "markdown",
   "metadata": {},
   "source": [
    "b) Self-defined functions"
   ]
  },
  {
   "cell_type": "code",
   "execution_count": null,
   "metadata": {},
   "outputs": [],
   "source": [
    "def function (<params>):\n",
    "    <code>\n",
    "    return <data>"
   ]
  },
  {
   "cell_type": "code",
   "execution_count": 3,
   "metadata": {},
   "outputs": [
    {
     "data": {
      "text/plain": [
       "13.049180327868852"
      ]
     },
     "execution_count": 3,
     "metadata": {},
     "output_type": "execute_result"
    }
   ],
   "source": [
    "# Average Bet Function\n",
    "def avgbet(totalbet, games):\n",
    "    x = totalbet/games\n",
    "    return x\n",
    "\n",
    "avgbet(796,61)"
   ]
  },
  {
   "cell_type": "code",
   "execution_count": 5,
   "metadata": {},
   "outputs": [
    {
     "data": {
      "text/plain": [
       "datetime.date(2022, 6, 12)"
      ]
     },
     "execution_count": 5,
     "metadata": {},
     "output_type": "execute_result"
    }
   ],
   "source": [
    "# Gaming Day Function\n",
    "import datetime as dt\n",
    "\n",
    "def gamingday(endtime):\n",
    "    if endtime.hour >= 0 and endtime.hour < 5:\n",
    "        x = endtime.date()+ dt.timedelta(days=-1)\n",
    "    else:\n",
    "        x = endtime.date()\n",
    "    return x\n",
    "\n",
    "gamingday(dt.datetime(2022, 6, 13, 4, 59, 00, 000000))\n",
    "#gamingday(dt.datetime.now())"
   ]
  },
  {
   "cell_type": "code",
   "execution_count": 7,
   "metadata": {},
   "outputs": [
    {
     "data": {
      "text/plain": [
       "3.141"
      ]
     },
     "execution_count": 7,
     "metadata": {},
     "output_type": "execute_result"
    }
   ],
   "source": [
    "# Round Down Function\n",
    "import math\n",
    "\n",
    "def rounddown(value, dp):\n",
    "    x = math.floor(value/pow(10,-dp))*pow(10,-dp)\n",
    "    return x\n",
    "\n",
    "rounddown(3.14159, 3)"
   ]
  },
  {
   "cell_type": "code",
   "execution_count": 9,
   "metadata": {},
   "outputs": [
    {
     "name": "stdout",
     "output_type": "stream",
     "text": [
      "13.040000000000001\n",
      "13.04\n"
     ]
    }
   ],
   "source": [
    "# Function in Function\n",
    "revised_avgbet = rounddown(avgbet(796,61),2)\n",
    "print(revised_avgbet)\n",
    "#print(round(revised_avgbet,2))"
   ]
  },
  {
   "cell_type": "markdown",
   "metadata": {},
   "source": [
    "Modules\n",
    "\n",
    "a module is a single Python file (.py), a package is a directory of Python modules "
   ]
  },
  {
   "cell_type": "code",
   "execution_count": 11,
   "metadata": {},
   "outputs": [
    {
     "data": {
      "text/plain": [
       "['Webscraping Macau Flight Exercise.ipynb',\n",
       " 'Untitled2.ipynb',\n",
       " 'Week 4-6.ipynb',\n",
       " '.vscode-server',\n",
       " 'Untitled1.ipynb',\n",
       " 'Baccarat_Testing.ipynb',\n",
       " 'Untitled.ipynb',\n",
       " 'Webscraping Course.ipynb',\n",
       " 'Baccarat Kat.ipynb']"
      ]
     },
     "execution_count": 11,
     "metadata": {},
     "output_type": "execute_result"
    }
   ],
   "source": [
    "import os\n",
    "os.getcwd() #pwd\n",
    "os.listdir() #ls -al"
   ]
  },
  {
   "cell_type": "markdown",
   "metadata": {},
   "source": [
    "# Week 6 Pandas\n",
    "\n",
    "Module - Introduction to Pandas\n",
    "\n",
    "Pandas is an open source data analysis and manipulation tool."
   ]
  },
  {
   "cell_type": "code",
   "execution_count": null,
   "metadata": {},
   "outputs": [],
   "source": [
    "# List (no need to declare)\n",
    "\n",
    "[1,2,3,4,5,6]\n",
    "\n",
    "# Nested list\n",
    "data = [[1,4],[2,5],[3,6]]\n",
    "data\n",
    "[[1,4],[2,5],[3,6]]"
   ]
  },
  {
   "cell_type": "code",
   "execution_count": null,
   "metadata": {},
   "outputs": [],
   "source": [
    "#Array\n",
    "\n",
    "#1D Array = Series\n",
    "#2D Array = Dataframe\n",
    "\n",
    "import numpy as np\n",
    "np.array([[1,4],[2,5],[3,6]])\n",
    "np.array(data)"
   ]
  },
  {
   "cell_type": "code",
   "execution_count": null,
   "metadata": {},
   "outputs": [],
   "source": [
    "# Dictionary\n",
    "# dict = {'key1': value1, 'key2': value2}\n",
    "\n",
    "dict = {'Column1': 'value1', 'Column2': 'value2'}\n",
    "dict"
   ]
  },
  {
   "cell_type": "code",
   "execution_count": null,
   "metadata": {},
   "outputs": [],
   "source": [
    "#creating a dataframe\n",
    "\n",
    "import pandas as pd\n",
    "df = pd.DataFrame(data, index=['row1','row2','row3'], columns = ['column1','column2'])\n",
    "df"
   ]
  },
  {
   "cell_type": "code",
   "execution_count": null,
   "metadata": {},
   "outputs": [],
   "source": [
    "wynnID2 = [50010300, 80010300]\n",
    "property2 = ['WM','WP']\n",
    "dict2 = {'WynnID':wynnID2, 'Property':property2}\n",
    "dict2 = {'WynnID':[50010300, 80010300], 'Property':['WM','WP']}\n",
    "\n",
    "df_dict2 = pd.DataFrame(dict2)\n",
    "df_dict2"
   ]
  },
  {
   "cell_type": "code",
   "execution_count": null,
   "metadata": {},
   "outputs": [],
   "source": [
    "#reading the csv file\n",
    "#df2 = pd.read_csv('Sample.csv')\n",
    "\n",
    "wynnID3 = [50010300, 50010301, 50010302, 50010303, 50010304, 50010305, 50010306, 50010307, 50010308, 50010309, 50010310, 50010311, 50010312, 50010313, 50010314, 50010315, 50010316, 50010300]\n",
    "property3 = ['WM', 'WP', 'WM', 'WP', 'WM', 'WP', 'WM', 'WP', 'WM', 'WP', 'WM', 'WP', 'WM', 'WP', 'WM', 'WP', None, 'WM']\n",
    "gametype3 = ['T','T','S','S','T','S','S','T','T','S','T','S','T','T','S','S','T','T']\n",
    "RCD3 = [100,900,150,850,200,800,250,750,300,700,350,650,400,550,450, None,500,100]\n",
    "timeplayed3 = [501,215,279,316,787,683,550,533,141,640,300,791,258,792,802,130,580,501]\n",
    "dict3 = {'WynnID':wynnID3, 'Property':property3, 'Game Type':gametype3, 'RCD':RCD3, 'Time Played':timeplayed3}\n",
    "\n",
    "\n",
    "df_dict3 = pd.DataFrame(dict3)\n",
    "\n",
    "df_dict3.head()   #first 5"
   ]
  },
  {
   "cell_type": "code",
   "execution_count": null,
   "metadata": {},
   "outputs": [],
   "source": [
    "df_dict3.tail()   #last 5"
   ]
  },
  {
   "cell_type": "code",
   "execution_count": null,
   "metadata": {},
   "outputs": [],
   "source": [
    "df_dict3.head(10)    #first 10"
   ]
  },
  {
   "cell_type": "code",
   "execution_count": null,
   "metadata": {},
   "outputs": [],
   "source": [
    "df_dict3['WynnID'].head()"
   ]
  },
  {
   "cell_type": "code",
   "execution_count": null,
   "metadata": {},
   "outputs": [],
   "source": [
    "df_dict3"
   ]
  },
  {
   "cell_type": "code",
   "execution_count": null,
   "metadata": {},
   "outputs": [],
   "source": [
    "# dataframe attribute example\n",
    "\n",
    "df_dict3.shape      #a x b array"
   ]
  },
  {
   "cell_type": "code",
   "execution_count": null,
   "metadata": {},
   "outputs": [],
   "source": [
    "df_dict3.columns"
   ]
  },
  {
   "cell_type": "code",
   "execution_count": null,
   "metadata": {},
   "outputs": [],
   "source": [
    "df_dict3.WynnID"
   ]
  },
  {
   "cell_type": "code",
   "execution_count": null,
   "metadata": {},
   "outputs": [],
   "source": [
    "df_dict3.Property"
   ]
  },
  {
   "cell_type": "code",
   "execution_count": null,
   "metadata": {},
   "outputs": [],
   "source": [
    "df_dict3.index"
   ]
  },
  {
   "cell_type": "code",
   "execution_count": null,
   "metadata": {},
   "outputs": [],
   "source": [
    "df_dict3.dtypes"
   ]
  },
  {
   "cell_type": "code",
   "execution_count": null,
   "metadata": {},
   "outputs": [],
   "source": [
    "df_dict3.info()"
   ]
  },
  {
   "cell_type": "code",
   "execution_count": null,
   "metadata": {},
   "outputs": [],
   "source": [
    "df_dict3.describe()"
   ]
  },
  {
   "cell_type": "code",
   "execution_count": null,
   "metadata": {},
   "outputs": [],
   "source": [
    "df_dict3 = df_dict3.astype({\"WynnID\":str})\n",
    "df_dict3.dtypes"
   ]
  },
  {
   "cell_type": "code",
   "execution_count": null,
   "metadata": {},
   "outputs": [],
   "source": [
    "# Length\n",
    "\n",
    "len(df_dict3)"
   ]
  },
  {
   "cell_type": "code",
   "execution_count": null,
   "metadata": {},
   "outputs": [],
   "source": [
    "# Operations on Dataframes"
   ]
  },
  {
   "cell_type": "markdown",
   "metadata": {},
   "source": [
    "Adding New Columns"
   ]
  },
  {
   "cell_type": "code",
   "execution_count": null,
   "metadata": {},
   "outputs": [],
   "source": [
    "# Add New Columns\n",
    "\n",
    "if df_dict3['Game Type'] == 'T':\n",
    "    df_dict3['Full Game Type'] = 'Table'\n",
    "elif  df_dict3['Game Type'] == 'S':\n",
    "    df_dict3['Full Game Type'] = 'Slot'"
   ]
  },
  {
   "cell_type": "code",
   "execution_count": null,
   "metadata": {},
   "outputs": [],
   "source": [
    "df_dict3['Full Game Type'] = np.where(df_dict3['Game Type'] == 'T', 'Table', 'Slot')\n",
    "df_dict3"
   ]
  },
  {
   "cell_type": "code",
   "execution_count": null,
   "metadata": {},
   "outputs": [],
   "source": [
    "# concat\n",
    "\n",
    "df_dict3['Predom'] = df_dict3['Property'] + ' ' + df_dict3['Full Game Type']\n",
    "df_dict3['Valid'] = 1\n",
    "df_dict3"
   ]
  },
  {
   "cell_type": "markdown",
   "metadata": {},
   "source": [
    "Drop Column"
   ]
  },
  {
   "cell_type": "code",
   "execution_count": null,
   "metadata": {},
   "outputs": [],
   "source": [
    "del df_dict3['Valid']\n",
    "df_dict3"
   ]
  },
  {
   "cell_type": "markdown",
   "metadata": {},
   "source": [
    "Rename Column"
   ]
  },
  {
   "cell_type": "code",
   "execution_count": null,
   "metadata": {},
   "outputs": [],
   "source": [
    "df_dict3.rename(columns={'Predom':'Team Predom'}, inplace=True)\n",
    "df_dict3"
   ]
  },
  {
   "cell_type": "markdown",
   "metadata": {},
   "source": [
    "Rank"
   ]
  },
  {
   "cell_type": "code",
   "execution_count": null,
   "metadata": {},
   "outputs": [],
   "source": [
    "# method = first otherwise both will share the same ranking. eg. 16.5\n",
    "df_dict3['RCD Ranking'] = df_dict3.RCD.rank(method=\"first\", ascending=False)    # method \"dense\"\n",
    "df_dict3"
   ]
  },
  {
   "cell_type": "markdown",
   "metadata": {},
   "source": [
    "Sorting Values"
   ]
  },
  {
   "cell_type": "code",
   "execution_count": null,
   "metadata": {},
   "outputs": [],
   "source": [
    "df_dict3.sort_values(['RCD','WynnID'],ascending=False)"
   ]
  },
  {
   "cell_type": "code",
   "execution_count": null,
   "metadata": {},
   "outputs": [],
   "source": [
    "df_dict3['RCD'].mean()"
   ]
  },
  {
   "cell_type": "code",
   "execution_count": null,
   "metadata": {},
   "outputs": [],
   "source": [
    "df_dict3['RCD'].median()"
   ]
  },
  {
   "cell_type": "code",
   "execution_count": null,
   "metadata": {},
   "outputs": [],
   "source": [
    "df_dict3['RCD'].std()"
   ]
  },
  {
   "cell_type": "code",
   "execution_count": null,
   "metadata": {},
   "outputs": [],
   "source": [
    "df_dict3['RCD'].max()"
   ]
  },
  {
   "cell_type": "code",
   "execution_count": null,
   "metadata": {},
   "outputs": [],
   "source": [
    "df_dict3['RCD'].min()"
   ]
  },
  {
   "cell_type": "code",
   "execution_count": null,
   "metadata": {},
   "outputs": [],
   "source": [
    "df_dict3['RCD'].count()"
   ]
  },
  {
   "cell_type": "code",
   "execution_count": null,
   "metadata": {},
   "outputs": [],
   "source": [
    "df_dict3['Property'].count()\n",
    "df_dict3['Property'].value_counts()     # group by"
   ]
  },
  {
   "cell_type": "code",
   "execution_count": null,
   "metadata": {},
   "outputs": [],
   "source": [
    "df_dict3['Property'].value_counts(normalize=True)\n",
    "df_dict3['Property'].value_counts(normalize=True).round(2)"
   ]
  },
  {
   "cell_type": "code",
   "execution_count": null,
   "metadata": {},
   "outputs": [],
   "source": [
    "df_dict3['Property'].nunique()  # distinct"
   ]
  },
  {
   "cell_type": "code",
   "execution_count": null,
   "metadata": {},
   "outputs": [],
   "source": [
    "df_dict3.loc[df_dict3['Full Game Type'] == 'Table', 'Property'].agg(['nunique','count','size'])"
   ]
  },
  {
   "cell_type": "markdown",
   "metadata": {},
   "source": [
    "Data Cleaning\n",
    "1. Empty cell : fill in data or drop the row\n",
    "2. Wrong format : convert to right format or drop the row\n",
    "3. Wrong data : replace data or drop the row\n",
    "4. Duplicates : drop the row"
   ]
  },
  {
   "cell_type": "code",
   "execution_count": 43,
   "metadata": {},
   "outputs": [
    {
     "data": {
      "text/html": [
       "<div>\n",
       "<style scoped>\n",
       "    .dataframe tbody tr th:only-of-type {\n",
       "        vertical-align: middle;\n",
       "    }\n",
       "\n",
       "    .dataframe tbody tr th {\n",
       "        vertical-align: top;\n",
       "    }\n",
       "\n",
       "    .dataframe thead th {\n",
       "        text-align: right;\n",
       "    }\n",
       "</style>\n",
       "<table border=\"1\" class=\"dataframe\">\n",
       "  <thead>\n",
       "    <tr style=\"text-align: right;\">\n",
       "      <th></th>\n",
       "      <th>WynnID</th>\n",
       "      <th>Property</th>\n",
       "      <th>Game Type</th>\n",
       "      <th>RCD</th>\n",
       "      <th>Time Played</th>\n",
       "      <th>Boolean</th>\n",
       "    </tr>\n",
       "  </thead>\n",
       "  <tbody>\n",
       "    <tr>\n",
       "      <th>0</th>\n",
       "      <td>50010300</td>\n",
       "      <td>WM</td>\n",
       "      <td>T</td>\n",
       "      <td>100.0</td>\n",
       "      <td>501</td>\n",
       "      <td>True</td>\n",
       "    </tr>\n",
       "    <tr>\n",
       "      <th>1</th>\n",
       "      <td>50010301</td>\n",
       "      <td>WP</td>\n",
       "      <td>T</td>\n",
       "      <td>900.0</td>\n",
       "      <td>215</td>\n",
       "      <td>False</td>\n",
       "    </tr>\n",
       "    <tr>\n",
       "      <th>2</th>\n",
       "      <td>50010302</td>\n",
       "      <td>WM</td>\n",
       "      <td>S</td>\n",
       "      <td>150.0</td>\n",
       "      <td>279</td>\n",
       "      <td>True</td>\n",
       "    </tr>\n",
       "    <tr>\n",
       "      <th>3</th>\n",
       "      <td>50010303</td>\n",
       "      <td>WP</td>\n",
       "      <td>S</td>\n",
       "      <td>850.0</td>\n",
       "      <td>316</td>\n",
       "      <td>False</td>\n",
       "    </tr>\n",
       "    <tr>\n",
       "      <th>4</th>\n",
       "      <td>50010304</td>\n",
       "      <td>WM</td>\n",
       "      <td>T</td>\n",
       "      <td>200.0</td>\n",
       "      <td>787</td>\n",
       "      <td>True</td>\n",
       "    </tr>\n",
       "    <tr>\n",
       "      <th>5</th>\n",
       "      <td>50010305</td>\n",
       "      <td>WP</td>\n",
       "      <td>S</td>\n",
       "      <td>800.0</td>\n",
       "      <td>683</td>\n",
       "      <td>True</td>\n",
       "    </tr>\n",
       "    <tr>\n",
       "      <th>6</th>\n",
       "      <td>50010306</td>\n",
       "      <td>WM</td>\n",
       "      <td>S</td>\n",
       "      <td>250.0</td>\n",
       "      <td>550</td>\n",
       "      <td>False</td>\n",
       "    </tr>\n",
       "    <tr>\n",
       "      <th>7</th>\n",
       "      <td>50010307</td>\n",
       "      <td>WP</td>\n",
       "      <td>T</td>\n",
       "      <td>750.0</td>\n",
       "      <td>533</td>\n",
       "      <td>False</td>\n",
       "    </tr>\n",
       "    <tr>\n",
       "      <th>8</th>\n",
       "      <td>50010308</td>\n",
       "      <td>WM</td>\n",
       "      <td>T</td>\n",
       "      <td>300.0</td>\n",
       "      <td>141</td>\n",
       "      <td>True</td>\n",
       "    </tr>\n",
       "    <tr>\n",
       "      <th>9</th>\n",
       "      <td>50010309</td>\n",
       "      <td>WP</td>\n",
       "      <td>S</td>\n",
       "      <td>700.0</td>\n",
       "      <td>640</td>\n",
       "      <td>False</td>\n",
       "    </tr>\n",
       "    <tr>\n",
       "      <th>10</th>\n",
       "      <td>50010310</td>\n",
       "      <td>WM</td>\n",
       "      <td>T</td>\n",
       "      <td>350.0</td>\n",
       "      <td>300</td>\n",
       "      <td>False</td>\n",
       "    </tr>\n",
       "    <tr>\n",
       "      <th>11</th>\n",
       "      <td>50010311</td>\n",
       "      <td>WP</td>\n",
       "      <td>S</td>\n",
       "      <td>650.0</td>\n",
       "      <td>791</td>\n",
       "      <td>True</td>\n",
       "    </tr>\n",
       "    <tr>\n",
       "      <th>12</th>\n",
       "      <td>50010312</td>\n",
       "      <td>WM</td>\n",
       "      <td>T</td>\n",
       "      <td>400.0</td>\n",
       "      <td>258</td>\n",
       "      <td>False</td>\n",
       "    </tr>\n",
       "    <tr>\n",
       "      <th>13</th>\n",
       "      <td>50010313</td>\n",
       "      <td>WP</td>\n",
       "      <td>T</td>\n",
       "      <td>550.0</td>\n",
       "      <td>792</td>\n",
       "      <td>True</td>\n",
       "    </tr>\n",
       "    <tr>\n",
       "      <th>14</th>\n",
       "      <td>50010314</td>\n",
       "      <td>WM</td>\n",
       "      <td>S</td>\n",
       "      <td>450.0</td>\n",
       "      <td>802</td>\n",
       "      <td>True</td>\n",
       "    </tr>\n",
       "    <tr>\n",
       "      <th>15</th>\n",
       "      <td>50010315</td>\n",
       "      <td>WP</td>\n",
       "      <td>S</td>\n",
       "      <td>NaN</td>\n",
       "      <td>130</td>\n",
       "      <td>False</td>\n",
       "    </tr>\n",
       "    <tr>\n",
       "      <th>16</th>\n",
       "      <td>50010316</td>\n",
       "      <td>None</td>\n",
       "      <td>T</td>\n",
       "      <td>500.0</td>\n",
       "      <td>580</td>\n",
       "      <td>True</td>\n",
       "    </tr>\n",
       "    <tr>\n",
       "      <th>17</th>\n",
       "      <td>50010300</td>\n",
       "      <td>WM</td>\n",
       "      <td>T</td>\n",
       "      <td>100.0</td>\n",
       "      <td>501</td>\n",
       "      <td>True</td>\n",
       "    </tr>\n",
       "  </tbody>\n",
       "</table>\n",
       "</div>"
      ],
      "text/plain": [
       "      WynnID Property Game Type    RCD  Time Played  Boolean\n",
       "0   50010300       WM         T  100.0          501     True\n",
       "1   50010301       WP         T  900.0          215    False\n",
       "2   50010302       WM         S  150.0          279     True\n",
       "3   50010303       WP         S  850.0          316    False\n",
       "4   50010304       WM         T  200.0          787     True\n",
       "5   50010305       WP         S  800.0          683     True\n",
       "6   50010306       WM         S  250.0          550    False\n",
       "7   50010307       WP         T  750.0          533    False\n",
       "8   50010308       WM         T  300.0          141     True\n",
       "9   50010309       WP         S  700.0          640    False\n",
       "10  50010310       WM         T  350.0          300    False\n",
       "11  50010311       WP         S  650.0          791     True\n",
       "12  50010312       WM         T  400.0          258    False\n",
       "13  50010313       WP         T  550.0          792     True\n",
       "14  50010314       WM         S  450.0          802     True\n",
       "15  50010315       WP         S    NaN          130    False\n",
       "16  50010316     None         T  500.0          580     True\n",
       "17  50010300       WM         T  100.0          501     True"
      ]
     },
     "execution_count": 43,
     "metadata": {},
     "output_type": "execute_result"
    }
   ],
   "source": [
    "import pandas as pd\n",
    "import numpy as np\n",
    "\n",
    "wynnID3 = [50010300, 50010301, 50010302, 50010303, 50010304, 50010305, 50010306, 50010307, 50010308, 50010309, 50010310, 50010311, 50010312, 50010313, 50010314, 50010315, 50010316, '50010300']\n",
    "property3 = ['WM', 'WP', 'WM', 'WP', 'WM', 'WP', 'WM', 'WP', 'WM', 'WP', 'WM', 'WP', 'WM', 'WP', 'WM', 'WP', None, 'WM']\n",
    "gametype3 = ['T','T','S','S','T','S','S','T','T','S','T','S','T','T','S','S','T','T']\n",
    "RCD3 = [100,900,150,850,200,800,250,750,300,700,350,650,400,550,450, None,500,100]\n",
    "timeplayed3 = [501,215,279,316,787,683,550,533,141,640,300,791,258,792,802,130,580,501]\n",
    "boolean3 = [True, False, True, False, True, True, False, False, True, False, False, True, False, True, True, False, True, True]\n",
    "dict3 = {'WynnID':wynnID3, 'Property':property3, 'Game Type':gametype3, 'RCD':RCD3, 'Time Played':timeplayed3, 'Boolean':boolean3}\n",
    "\n",
    "df_dict3 = pd.DataFrame(dict3)\n",
    "df_dict3"
   ]
  },
  {
   "cell_type": "markdown",
   "metadata": {},
   "source": [
    "Empty Cells"
   ]
  },
  {
   "cell_type": "code",
   "execution_count": 21,
   "metadata": {},
   "outputs": [
    {
     "data": {
      "text/html": [
       "<div>\n",
       "<style scoped>\n",
       "    .dataframe tbody tr th:only-of-type {\n",
       "        vertical-align: middle;\n",
       "    }\n",
       "\n",
       "    .dataframe tbody tr th {\n",
       "        vertical-align: top;\n",
       "    }\n",
       "\n",
       "    .dataframe thead th {\n",
       "        text-align: right;\n",
       "    }\n",
       "</style>\n",
       "<table border=\"1\" class=\"dataframe\">\n",
       "  <thead>\n",
       "    <tr style=\"text-align: right;\">\n",
       "      <th></th>\n",
       "      <th>WynnID</th>\n",
       "      <th>Property</th>\n",
       "      <th>Game Type</th>\n",
       "      <th>RCD</th>\n",
       "      <th>Time Played</th>\n",
       "      <th>Boolean</th>\n",
       "    </tr>\n",
       "  </thead>\n",
       "  <tbody>\n",
       "    <tr>\n",
       "      <th>0</th>\n",
       "      <td>50010300</td>\n",
       "      <td>WM</td>\n",
       "      <td>T</td>\n",
       "      <td>100.00</td>\n",
       "      <td>501</td>\n",
       "      <td>True</td>\n",
       "    </tr>\n",
       "    <tr>\n",
       "      <th>1</th>\n",
       "      <td>50010301</td>\n",
       "      <td>WP</td>\n",
       "      <td>T</td>\n",
       "      <td>900.00</td>\n",
       "      <td>215</td>\n",
       "      <td>False</td>\n",
       "    </tr>\n",
       "    <tr>\n",
       "      <th>2</th>\n",
       "      <td>50010302</td>\n",
       "      <td>WM</td>\n",
       "      <td>S</td>\n",
       "      <td>150.00</td>\n",
       "      <td>279</td>\n",
       "      <td>True</td>\n",
       "    </tr>\n",
       "    <tr>\n",
       "      <th>3</th>\n",
       "      <td>50010303</td>\n",
       "      <td>WP</td>\n",
       "      <td>S</td>\n",
       "      <td>850.00</td>\n",
       "      <td>316</td>\n",
       "      <td>False</td>\n",
       "    </tr>\n",
       "    <tr>\n",
       "      <th>4</th>\n",
       "      <td>50010304</td>\n",
       "      <td>WM</td>\n",
       "      <td>T</td>\n",
       "      <td>200.00</td>\n",
       "      <td>787</td>\n",
       "      <td>True</td>\n",
       "    </tr>\n",
       "    <tr>\n",
       "      <th>5</th>\n",
       "      <td>50010305</td>\n",
       "      <td>WP</td>\n",
       "      <td>S</td>\n",
       "      <td>800.00</td>\n",
       "      <td>683</td>\n",
       "      <td>True</td>\n",
       "    </tr>\n",
       "    <tr>\n",
       "      <th>6</th>\n",
       "      <td>50010306</td>\n",
       "      <td>WM</td>\n",
       "      <td>S</td>\n",
       "      <td>250.00</td>\n",
       "      <td>550</td>\n",
       "      <td>False</td>\n",
       "    </tr>\n",
       "    <tr>\n",
       "      <th>7</th>\n",
       "      <td>50010307</td>\n",
       "      <td>WP</td>\n",
       "      <td>T</td>\n",
       "      <td>750.00</td>\n",
       "      <td>533</td>\n",
       "      <td>False</td>\n",
       "    </tr>\n",
       "    <tr>\n",
       "      <th>8</th>\n",
       "      <td>50010308</td>\n",
       "      <td>WM</td>\n",
       "      <td>T</td>\n",
       "      <td>300.00</td>\n",
       "      <td>141</td>\n",
       "      <td>True</td>\n",
       "    </tr>\n",
       "    <tr>\n",
       "      <th>9</th>\n",
       "      <td>50010309</td>\n",
       "      <td>WP</td>\n",
       "      <td>S</td>\n",
       "      <td>700.00</td>\n",
       "      <td>640</td>\n",
       "      <td>False</td>\n",
       "    </tr>\n",
       "    <tr>\n",
       "      <th>10</th>\n",
       "      <td>50010310</td>\n",
       "      <td>WM</td>\n",
       "      <td>T</td>\n",
       "      <td>350.00</td>\n",
       "      <td>300</td>\n",
       "      <td>False</td>\n",
       "    </tr>\n",
       "    <tr>\n",
       "      <th>11</th>\n",
       "      <td>50010311</td>\n",
       "      <td>WP</td>\n",
       "      <td>S</td>\n",
       "      <td>650.00</td>\n",
       "      <td>791</td>\n",
       "      <td>True</td>\n",
       "    </tr>\n",
       "    <tr>\n",
       "      <th>12</th>\n",
       "      <td>50010312</td>\n",
       "      <td>WM</td>\n",
       "      <td>T</td>\n",
       "      <td>400.00</td>\n",
       "      <td>258</td>\n",
       "      <td>False</td>\n",
       "    </tr>\n",
       "    <tr>\n",
       "      <th>13</th>\n",
       "      <td>50010313</td>\n",
       "      <td>WP</td>\n",
       "      <td>T</td>\n",
       "      <td>550.00</td>\n",
       "      <td>792</td>\n",
       "      <td>True</td>\n",
       "    </tr>\n",
       "    <tr>\n",
       "      <th>14</th>\n",
       "      <td>50010314</td>\n",
       "      <td>WM</td>\n",
       "      <td>S</td>\n",
       "      <td>450.00</td>\n",
       "      <td>802</td>\n",
       "      <td>True</td>\n",
       "    </tr>\n",
       "    <tr>\n",
       "      <th>15</th>\n",
       "      <td>50010315</td>\n",
       "      <td>WP</td>\n",
       "      <td>S</td>\n",
       "      <td>470.59</td>\n",
       "      <td>130</td>\n",
       "      <td>False</td>\n",
       "    </tr>\n",
       "    <tr>\n",
       "      <th>16</th>\n",
       "      <td>50010316</td>\n",
       "      <td>WP</td>\n",
       "      <td>T</td>\n",
       "      <td>500.00</td>\n",
       "      <td>580</td>\n",
       "      <td>True</td>\n",
       "    </tr>\n",
       "    <tr>\n",
       "      <th>17</th>\n",
       "      <td>50010300</td>\n",
       "      <td>WM</td>\n",
       "      <td>T</td>\n",
       "      <td>100.00</td>\n",
       "      <td>501</td>\n",
       "      <td>True</td>\n",
       "    </tr>\n",
       "  </tbody>\n",
       "</table>\n",
       "</div>"
      ],
      "text/plain": [
       "      WynnID Property Game Type     RCD  Time Played  Boolean\n",
       "0   50010300       WM         T  100.00          501     True\n",
       "1   50010301       WP         T  900.00          215    False\n",
       "2   50010302       WM         S  150.00          279     True\n",
       "3   50010303       WP         S  850.00          316    False\n",
       "4   50010304       WM         T  200.00          787     True\n",
       "5   50010305       WP         S  800.00          683     True\n",
       "6   50010306       WM         S  250.00          550    False\n",
       "7   50010307       WP         T  750.00          533    False\n",
       "8   50010308       WM         T  300.00          141     True\n",
       "9   50010309       WP         S  700.00          640    False\n",
       "10  50010310       WM         T  350.00          300    False\n",
       "11  50010311       WP         S  650.00          791     True\n",
       "12  50010312       WM         T  400.00          258    False\n",
       "13  50010313       WP         T  550.00          792     True\n",
       "14  50010314       WM         S  450.00          802     True\n",
       "15  50010315       WP         S  470.59          130    False\n",
       "16  50010316       WP         T  500.00          580     True\n",
       "17  50010300       WM         T  100.00          501     True"
      ]
     },
     "execution_count": 21,
     "metadata": {},
     "output_type": "execute_result"
    }
   ],
   "source": [
    "df_dict3.dropna()\n",
    "#df_dict3.dropna(subset=['Property'])\n",
    "\n",
    "#df_dict3['Property'].fillna('WP', inplace=True)\n",
    "#df_dict3\n",
    "#df_dict3.RCD.fillna(round(df_dict3.RCD.mean(),2), inplace=True)\n",
    "#df_dict3"
   ]
  },
  {
   "cell_type": "markdown",
   "metadata": {},
   "source": [
    "Wrong format"
   ]
  },
  {
   "cell_type": "code",
   "execution_count": 48,
   "metadata": {},
   "outputs": [],
   "source": [
    "df_dict3.corr()\n",
    "#df_dict3.WynnID=df_dict3.WynnID.astype(int)\n",
    "df_dict3.WynnID=pd.to_numeric(df_dict3['WynnID'])\n",
    "#df_dict3.corr()"
   ]
  },
  {
   "cell_type": "markdown",
   "metadata": {},
   "source": [
    "Wrong data"
   ]
  },
  {
   "cell_type": "code",
   "execution_count": 46,
   "metadata": {},
   "outputs": [
    {
     "data": {
      "text/html": [
       "<div>\n",
       "<style scoped>\n",
       "    .dataframe tbody tr th:only-of-type {\n",
       "        vertical-align: middle;\n",
       "    }\n",
       "\n",
       "    .dataframe tbody tr th {\n",
       "        vertical-align: top;\n",
       "    }\n",
       "\n",
       "    .dataframe thead th {\n",
       "        text-align: right;\n",
       "    }\n",
       "</style>\n",
       "<table border=\"1\" class=\"dataframe\">\n",
       "  <thead>\n",
       "    <tr style=\"text-align: right;\">\n",
       "      <th></th>\n",
       "      <th>WynnID</th>\n",
       "      <th>Property</th>\n",
       "      <th>Game Type</th>\n",
       "      <th>RCD</th>\n",
       "      <th>Time Played</th>\n",
       "      <th>Boolean</th>\n",
       "    </tr>\n",
       "  </thead>\n",
       "  <tbody>\n",
       "    <tr>\n",
       "      <th>0</th>\n",
       "      <td>50010300</td>\n",
       "      <td>WM</td>\n",
       "      <td>T</td>\n",
       "      <td>100.0</td>\n",
       "      <td>501</td>\n",
       "      <td>True</td>\n",
       "    </tr>\n",
       "    <tr>\n",
       "      <th>2</th>\n",
       "      <td>50010302</td>\n",
       "      <td>WM</td>\n",
       "      <td>S</td>\n",
       "      <td>150.0</td>\n",
       "      <td>279</td>\n",
       "      <td>True</td>\n",
       "    </tr>\n",
       "    <tr>\n",
       "      <th>3</th>\n",
       "      <td>50010303</td>\n",
       "      <td>WP</td>\n",
       "      <td>S</td>\n",
       "      <td>850.0</td>\n",
       "      <td>316</td>\n",
       "      <td>False</td>\n",
       "    </tr>\n",
       "    <tr>\n",
       "      <th>4</th>\n",
       "      <td>50010304</td>\n",
       "      <td>WM</td>\n",
       "      <td>T</td>\n",
       "      <td>200.0</td>\n",
       "      <td>787</td>\n",
       "      <td>True</td>\n",
       "    </tr>\n",
       "    <tr>\n",
       "      <th>5</th>\n",
       "      <td>50010305</td>\n",
       "      <td>WP</td>\n",
       "      <td>S</td>\n",
       "      <td>800.0</td>\n",
       "      <td>683</td>\n",
       "      <td>True</td>\n",
       "    </tr>\n",
       "    <tr>\n",
       "      <th>6</th>\n",
       "      <td>50010306</td>\n",
       "      <td>WM</td>\n",
       "      <td>S</td>\n",
       "      <td>250.0</td>\n",
       "      <td>550</td>\n",
       "      <td>False</td>\n",
       "    </tr>\n",
       "    <tr>\n",
       "      <th>7</th>\n",
       "      <td>50010307</td>\n",
       "      <td>WP</td>\n",
       "      <td>T</td>\n",
       "      <td>750.0</td>\n",
       "      <td>533</td>\n",
       "      <td>False</td>\n",
       "    </tr>\n",
       "    <tr>\n",
       "      <th>8</th>\n",
       "      <td>50010308</td>\n",
       "      <td>WM</td>\n",
       "      <td>T</td>\n",
       "      <td>300.0</td>\n",
       "      <td>141</td>\n",
       "      <td>True</td>\n",
       "    </tr>\n",
       "    <tr>\n",
       "      <th>9</th>\n",
       "      <td>50010309</td>\n",
       "      <td>WP</td>\n",
       "      <td>S</td>\n",
       "      <td>700.0</td>\n",
       "      <td>640</td>\n",
       "      <td>False</td>\n",
       "    </tr>\n",
       "    <tr>\n",
       "      <th>10</th>\n",
       "      <td>50010310</td>\n",
       "      <td>WM</td>\n",
       "      <td>T</td>\n",
       "      <td>350.0</td>\n",
       "      <td>300</td>\n",
       "      <td>False</td>\n",
       "    </tr>\n",
       "    <tr>\n",
       "      <th>11</th>\n",
       "      <td>50010311</td>\n",
       "      <td>WP</td>\n",
       "      <td>S</td>\n",
       "      <td>650.0</td>\n",
       "      <td>791</td>\n",
       "      <td>True</td>\n",
       "    </tr>\n",
       "    <tr>\n",
       "      <th>12</th>\n",
       "      <td>50010312</td>\n",
       "      <td>WM</td>\n",
       "      <td>T</td>\n",
       "      <td>400.0</td>\n",
       "      <td>258</td>\n",
       "      <td>False</td>\n",
       "    </tr>\n",
       "    <tr>\n",
       "      <th>13</th>\n",
       "      <td>50010313</td>\n",
       "      <td>WP</td>\n",
       "      <td>T</td>\n",
       "      <td>550.0</td>\n",
       "      <td>792</td>\n",
       "      <td>True</td>\n",
       "    </tr>\n",
       "    <tr>\n",
       "      <th>14</th>\n",
       "      <td>50010314</td>\n",
       "      <td>WM</td>\n",
       "      <td>S</td>\n",
       "      <td>450.0</td>\n",
       "      <td>802</td>\n",
       "      <td>True</td>\n",
       "    </tr>\n",
       "    <tr>\n",
       "      <th>15</th>\n",
       "      <td>50010315</td>\n",
       "      <td>WP</td>\n",
       "      <td>S</td>\n",
       "      <td>NaN</td>\n",
       "      <td>130</td>\n",
       "      <td>False</td>\n",
       "    </tr>\n",
       "    <tr>\n",
       "      <th>16</th>\n",
       "      <td>50010316</td>\n",
       "      <td>WMP</td>\n",
       "      <td>T</td>\n",
       "      <td>500.0</td>\n",
       "      <td>580</td>\n",
       "      <td>True</td>\n",
       "    </tr>\n",
       "    <tr>\n",
       "      <th>17</th>\n",
       "      <td>50010300</td>\n",
       "      <td>WM</td>\n",
       "      <td>T</td>\n",
       "      <td>100.0</td>\n",
       "      <td>501</td>\n",
       "      <td>True</td>\n",
       "    </tr>\n",
       "  </tbody>\n",
       "</table>\n",
       "</div>"
      ],
      "text/plain": [
       "      WynnID Property Game Type    RCD  Time Played  Boolean\n",
       "0   50010300       WM         T  100.0          501     True\n",
       "2   50010302       WM         S  150.0          279     True\n",
       "3   50010303       WP         S  850.0          316    False\n",
       "4   50010304       WM         T  200.0          787     True\n",
       "5   50010305       WP         S  800.0          683     True\n",
       "6   50010306       WM         S  250.0          550    False\n",
       "7   50010307       WP         T  750.0          533    False\n",
       "8   50010308       WM         T  300.0          141     True\n",
       "9   50010309       WP         S  700.0          640    False\n",
       "10  50010310       WM         T  350.0          300    False\n",
       "11  50010311       WP         S  650.0          791     True\n",
       "12  50010312       WM         T  400.0          258    False\n",
       "13  50010313       WP         T  550.0          792     True\n",
       "14  50010314       WM         S  450.0          802     True\n",
       "15  50010315       WP         S    NaN          130    False\n",
       "16  50010316      WMP         T  500.0          580     True\n",
       "17  50010300       WM         T  100.0          501     True"
      ]
     },
     "execution_count": 46,
     "metadata": {},
     "output_type": "execute_result"
    }
   ],
   "source": [
    "#loc: by row and column label\n",
    "df_dict3.loc[[0,17], ['WynnID']] #list of rows, with column name\n",
    "#df_dict3.loc[[0,17], 'WynnID'] #list of rows, without column name\n",
    "#df_dict3.loc[0:2, 'WynnID':'Game Type'] #range of rows, range of columns\n",
    "\n",
    "#iloc: by row and column index\n",
    "#df_dict3.iloc[0:2,0:2] #range of rows, range of columns, actually 0,1\n",
    "#df_dict3.iloc[[0,1],[0,1]] #list of rows, with column name\n",
    "#df_dict3.iloc[-2,1]='WMP'\n",
    "#df_dict3\n",
    "\n",
    "#drop rows\n",
    "#for x in df_dict3.index:\n",
    "    #if df_dict3.loc[x,'RCD']>=900:\n",
    "        #df_dict3.drop(x, inplace=True)\n",
    "#df_dict3"
   ]
  },
  {
   "cell_type": "markdown",
   "metadata": {},
   "source": [
    "Duplication\n",
    "\n",
    "df.duplicated()\n",
    "1. subset = column or list of columns\n",
    "2. keep = 'first','last',False; default set as first\n",
    "\n",
    "df.drop_duplicates()\n",
    "1. inplace = True, False; default set as False"
   ]
  },
  {
   "cell_type": "code",
   "execution_count": 54,
   "metadata": {},
   "outputs": [
    {
     "data": {
      "text/html": [
       "<div>\n",
       "<style scoped>\n",
       "    .dataframe tbody tr th:only-of-type {\n",
       "        vertical-align: middle;\n",
       "    }\n",
       "\n",
       "    .dataframe tbody tr th {\n",
       "        vertical-align: top;\n",
       "    }\n",
       "\n",
       "    .dataframe thead th {\n",
       "        text-align: right;\n",
       "    }\n",
       "</style>\n",
       "<table border=\"1\" class=\"dataframe\">\n",
       "  <thead>\n",
       "    <tr style=\"text-align: right;\">\n",
       "      <th></th>\n",
       "      <th>WynnID</th>\n",
       "      <th>Property</th>\n",
       "      <th>Game Type</th>\n",
       "      <th>RCD</th>\n",
       "      <th>Time Played</th>\n",
       "      <th>Boolean</th>\n",
       "    </tr>\n",
       "  </thead>\n",
       "  <tbody>\n",
       "    <tr>\n",
       "      <th>0</th>\n",
       "      <td>50010300</td>\n",
       "      <td>WM</td>\n",
       "      <td>T</td>\n",
       "      <td>100.0</td>\n",
       "      <td>501</td>\n",
       "      <td>True</td>\n",
       "    </tr>\n",
       "    <tr>\n",
       "      <th>2</th>\n",
       "      <td>50010302</td>\n",
       "      <td>WM</td>\n",
       "      <td>S</td>\n",
       "      <td>150.0</td>\n",
       "      <td>279</td>\n",
       "      <td>True</td>\n",
       "    </tr>\n",
       "    <tr>\n",
       "      <th>3</th>\n",
       "      <td>50010303</td>\n",
       "      <td>WP</td>\n",
       "      <td>S</td>\n",
       "      <td>850.0</td>\n",
       "      <td>316</td>\n",
       "      <td>False</td>\n",
       "    </tr>\n",
       "    <tr>\n",
       "      <th>4</th>\n",
       "      <td>50010304</td>\n",
       "      <td>WM</td>\n",
       "      <td>T</td>\n",
       "      <td>200.0</td>\n",
       "      <td>787</td>\n",
       "      <td>True</td>\n",
       "    </tr>\n",
       "    <tr>\n",
       "      <th>5</th>\n",
       "      <td>50010305</td>\n",
       "      <td>WP</td>\n",
       "      <td>S</td>\n",
       "      <td>800.0</td>\n",
       "      <td>683</td>\n",
       "      <td>True</td>\n",
       "    </tr>\n",
       "    <tr>\n",
       "      <th>6</th>\n",
       "      <td>50010306</td>\n",
       "      <td>WM</td>\n",
       "      <td>S</td>\n",
       "      <td>250.0</td>\n",
       "      <td>550</td>\n",
       "      <td>False</td>\n",
       "    </tr>\n",
       "    <tr>\n",
       "      <th>7</th>\n",
       "      <td>50010307</td>\n",
       "      <td>WP</td>\n",
       "      <td>T</td>\n",
       "      <td>750.0</td>\n",
       "      <td>533</td>\n",
       "      <td>False</td>\n",
       "    </tr>\n",
       "    <tr>\n",
       "      <th>8</th>\n",
       "      <td>50010308</td>\n",
       "      <td>WM</td>\n",
       "      <td>T</td>\n",
       "      <td>300.0</td>\n",
       "      <td>141</td>\n",
       "      <td>True</td>\n",
       "    </tr>\n",
       "    <tr>\n",
       "      <th>9</th>\n",
       "      <td>50010309</td>\n",
       "      <td>WP</td>\n",
       "      <td>S</td>\n",
       "      <td>700.0</td>\n",
       "      <td>640</td>\n",
       "      <td>False</td>\n",
       "    </tr>\n",
       "    <tr>\n",
       "      <th>10</th>\n",
       "      <td>50010310</td>\n",
       "      <td>WM</td>\n",
       "      <td>T</td>\n",
       "      <td>350.0</td>\n",
       "      <td>300</td>\n",
       "      <td>False</td>\n",
       "    </tr>\n",
       "    <tr>\n",
       "      <th>11</th>\n",
       "      <td>50010311</td>\n",
       "      <td>WP</td>\n",
       "      <td>S</td>\n",
       "      <td>650.0</td>\n",
       "      <td>791</td>\n",
       "      <td>True</td>\n",
       "    </tr>\n",
       "    <tr>\n",
       "      <th>12</th>\n",
       "      <td>50010312</td>\n",
       "      <td>WM</td>\n",
       "      <td>T</td>\n",
       "      <td>400.0</td>\n",
       "      <td>258</td>\n",
       "      <td>False</td>\n",
       "    </tr>\n",
       "    <tr>\n",
       "      <th>13</th>\n",
       "      <td>50010313</td>\n",
       "      <td>WP</td>\n",
       "      <td>T</td>\n",
       "      <td>550.0</td>\n",
       "      <td>792</td>\n",
       "      <td>True</td>\n",
       "    </tr>\n",
       "    <tr>\n",
       "      <th>14</th>\n",
       "      <td>50010314</td>\n",
       "      <td>WM</td>\n",
       "      <td>S</td>\n",
       "      <td>450.0</td>\n",
       "      <td>802</td>\n",
       "      <td>True</td>\n",
       "    </tr>\n",
       "    <tr>\n",
       "      <th>15</th>\n",
       "      <td>50010315</td>\n",
       "      <td>WP</td>\n",
       "      <td>S</td>\n",
       "      <td>NaN</td>\n",
       "      <td>130</td>\n",
       "      <td>False</td>\n",
       "    </tr>\n",
       "    <tr>\n",
       "      <th>16</th>\n",
       "      <td>50010316</td>\n",
       "      <td>WMP</td>\n",
       "      <td>T</td>\n",
       "      <td>500.0</td>\n",
       "      <td>580</td>\n",
       "      <td>True</td>\n",
       "    </tr>\n",
       "  </tbody>\n",
       "</table>\n",
       "</div>"
      ],
      "text/plain": [
       "      WynnID Property Game Type    RCD  Time Played  Boolean\n",
       "0   50010300       WM         T  100.0          501     True\n",
       "2   50010302       WM         S  150.0          279     True\n",
       "3   50010303       WP         S  850.0          316    False\n",
       "4   50010304       WM         T  200.0          787     True\n",
       "5   50010305       WP         S  800.0          683     True\n",
       "6   50010306       WM         S  250.0          550    False\n",
       "7   50010307       WP         T  750.0          533    False\n",
       "8   50010308       WM         T  300.0          141     True\n",
       "9   50010309       WP         S  700.0          640    False\n",
       "10  50010310       WM         T  350.0          300    False\n",
       "11  50010311       WP         S  650.0          791     True\n",
       "12  50010312       WM         T  400.0          258    False\n",
       "13  50010313       WP         T  550.0          792     True\n",
       "14  50010314       WM         S  450.0          802     True\n",
       "15  50010315       WP         S    NaN          130    False\n",
       "16  50010316      WMP         T  500.0          580     True"
      ]
     },
     "execution_count": 54,
     "metadata": {},
     "output_type": "execute_result"
    }
   ],
   "source": [
    "df_dict3.duplicated()\n",
    "#df_dict3.WynnID.duplicated(keep=False) #single column method 1\n",
    "#df_dict3.duplicated(subset='WynnID', keep=False) #single column method 2\n",
    "#df_dict3.duplicated(subset=['Property','Game Type']) #multiple columns, keep is default set as first\n",
    "\n",
    "#df_dict3.drop_duplicates()\n",
    "#df_dict3"
   ]
  }
 ],
 "metadata": {
  "interpreter": {
   "hash": "4b69b236b0e49498c1905e8db9dfeb82fb1f1bded741942768afa1155c1dddbb"
  },
  "kernelspec": {
   "display_name": "Python 3.9.7 ('base')",
   "language": "python",
   "name": "python3"
  },
  "language_info": {
   "codemirror_mode": {
    "name": "ipython",
    "version": 3
   },
   "file_extension": ".py",
   "mimetype": "text/x-python",
   "name": "python",
   "nbconvert_exporter": "python",
   "pygments_lexer": "ipython3",
   "version": "3.9.7"
  },
  "orig_nbformat": 4
 },
 "nbformat": 4,
 "nbformat_minor": 2
}
