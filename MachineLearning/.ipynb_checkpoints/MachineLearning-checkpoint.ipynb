{
 "cells": [
  {
   "cell_type": "code",
   "execution_count": 36,
   "metadata": {},
   "outputs": [
    {
     "data": {
      "text/plain": [
       "array(['HipHop', 'Dance'], dtype=object)"
      ]
     },
     "execution_count": 36,
     "metadata": {},
     "output_type": "execute_result"
    }
   ],
   "source": [
    "### use entire dataset to train ###\n",
    "import pandas as pd\n",
    "from sklearn.tree import DecisionTreeClassifier\n",
    "\n",
    "music_data = pd.read_csv('music.csv')\n",
    "\n",
    "# separate data and result columns\n",
    "X = music_data.drop(columns=['genre'])\n",
    "Y = music_data['genre']\n",
    "\n",
    "# build the model\n",
    "model = DecisionTreeClassifier()\n",
    "\n",
    "# training it (use entire dataset) \n",
    "model.fit(X, Y)\n",
    "\n",
    "# prediction what genre for age 21 male and age 22 female\n",
    "predictions = model.predict([[21, 1], [22, 0]])\n",
    "predictions         # output:array(['HipHop', 'Dance'], dtype=object)\n"
   ]
  },
  {
   "cell_type": "code",
   "execution_count": 37,
   "metadata": {},
   "outputs": [
    {
     "data": {
      "text/plain": [
       "1.0"
      ]
     },
     "execution_count": 37,
     "metadata": {},
     "output_type": "execute_result"
    }
   ],
   "source": [
    "### use 80% dataset to train and measure the accuracy ###\n",
    "import pandas as pd\n",
    "from sklearn.tree import DecisionTreeClassifier\n",
    "from sklearn.model_selection import train_test_split\n",
    "from sklearn.metrics import accuracy_score\n",
    "\n",
    "# split the input data and target result\n",
    "music_data = pd.read_csv('music.csv')\n",
    "X = music_data.drop(columns=['genre'])\n",
    "Y = music_data['genre']\n",
    "# split training data and testing data (ie. 20% for testing)\n",
    "X_train, X_test, Y_train, Y_test = train_test_split(X, Y, test_size=0.2)\n",
    "\n",
    "# select the model\n",
    "model = DecisionTreeClassifier()\n",
    "# train the model - use 80% of dataset\n",
    "model.fit(X_train, Y_train)\n",
    "# prediction what genre for age 21 male and age 22 female\n",
    "predictions = model.predict(X_test)\n",
    "\n",
    "score = accuracy_score(Y_test, predictions)\n",
    "score\n",
    "# Ctrl+Enter to run multiple times\n",
    "# as the train_test_split is randomly pick the data\n",
    "# sometimes the output is not 100% correct (ie. 1.0)\n",
    "# it may down to 25% (ie. 0.25)"
   ]
  },
  {
   "cell_type": "code",
   "execution_count": 40,
   "metadata": {},
   "outputs": [],
   "source": [
    "### Visualizing a Decision Tree ###\n",
    "import pandas as pd\n",
    "from sklearn.tree import DecisionTreeClassifier\n",
    "from sklearn import tree\n",
    "\n",
    "music_data = pd.read_csv('music.csv')\n",
    "X = music_data.drop(columns=['genre'])\n",
    "Y = music_data['genre']\n",
    "model = DecisionTreeClassifier()\n",
    "model.fit(X, Y)\n",
    "\n",
    "# DOT - graph descriptions language of the Graphviz graph\n",
    "# feature_names - the columns of dataset\n",
    "# class_names - unique set of the name of result\n",
    "# label='all' - show all label in each rectangle\n",
    "# rounded - rounded corner of the rectangle\n",
    "# filled - filled with color \n",
    "tree.export_graphviz(model, out_file='music-recommender.dot',\n",
    "                    feature_names=['age', 'gender'],\n",
    "                    class_names=sorted(Y.unique()),\n",
    "                    label='all',\n",
    "                    rounded=True,\n",
    "                    filled=True)\n",
    "#\n",
    "# drap and drop the .dot file to Visual Studio Code\n",
    "# install VS Code extension\n",
    "# Graphviz (dot) language support for Visual Studio Code by Joao Pinto\n",
    "\n"
   ]
  },
  {
   "cell_type": "code",
   "execution_count": null,
   "metadata": {},
   "outputs": [],
   "source": []
  }
 ],
 "metadata": {
  "kernelspec": {
   "display_name": "Python 3",
   "language": "python",
   "name": "python3"
  },
  "language_info": {
   "codemirror_mode": {
    "name": "ipython",
    "version": 3
   },
   "file_extension": ".py",
   "mimetype": "text/x-python",
   "name": "python",
   "nbconvert_exporter": "python",
   "pygments_lexer": "ipython3",
   "version": "3.7.6"
  }
 },
 "nbformat": 4,
 "nbformat_minor": 4
}
